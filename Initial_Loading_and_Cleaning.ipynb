{
 "cells": [
  {
   "cell_type": "markdown",
   "metadata": {},
   "source": [
    "## Load Data Using Spark"
   ]
  },
  {
   "cell_type": "code",
   "execution_count": 4,
   "metadata": {
    "collapsed": true
   },
   "outputs": [],
   "source": [
    "import numpy as np\n",
    "import pandas as pd\n",
    "import json\n",
    "import re"
   ]
  },
  {
   "cell_type": "code",
   "execution_count": 5,
   "metadata": {
    "collapsed": false
   },
   "outputs": [],
   "source": [
    "import matplotlib.pyplot as plt\n",
    "%matplotlib inline"
   ]
  },
  {
   "cell_type": "code",
   "execution_count": 6,
   "metadata": {
    "collapsed": false
   },
   "outputs": [],
   "source": [
    "from lib.spark_mongo_interface import load_tweets_from_mongo"
   ]
  },
  {
   "cell_type": "code",
   "execution_count": 7,
   "metadata": {
    "collapsed": false
   },
   "outputs": [],
   "source": [
    "video_game_tweets = load_tweets_from_mongo(collection = \"video_game_tweets\")\n",
    "unfiltered_tweets = load_tweets_from_mongo(collection = \"unfiltered_tweets\")"
   ]
  },
  {
   "cell_type": "markdown",
   "metadata": {},
   "source": [
    "# Get Video Game Keyword List"
   ]
  },
  {
   "cell_type": "code",
   "execution_count": null,
   "metadata": {
    "collapsed": false
   },
   "outputs": [],
   "source": [
    "from keyword_handling import restrict_by_keywords\n",
    "from keyword_handling import keywords_in_tweet\n",
    "\n",
    "video_game_keyword_list = open(\"Video_Game_Keyword_List.txt\", \"r\").read().split(\"\\n\")\n",
    "video_game_keyword_list.remove('')\n",
    "\n",
    "video_game_tweets = restrict_by_keywords(video_game_tweets, 1, video_game_keyword_list)\n",
    "unfiltered_tweets = restrict_by_keywords(unfiltered_tweets, 0, video_game_keyword_list)"
   ]
  },
  {
   "cell_type": "code",
   "execution_count": null,
   "metadata": {
    "collapsed": true
   },
   "outputs": [],
   "source": [
    "video_game_tweets.to_pickle(\"saved_pickles/unprocessed_video_game_tweets.pkl\")\n",
    "unfiltered_tweets.to_pickle(\"saved_pickles/unprocessed_unfiltered_tweets.pkl\")"
   ]
  },
  {
   "cell_type": "markdown",
   "metadata": {},
   "source": [
    "# Get the Dictionary of Proper Names"
   ]
  },
  {
   "cell_type": "code",
   "execution_count": null,
   "metadata": {
    "collapsed": false
   },
   "outputs": [],
   "source": [
    "from name_dictionary import get_proper_name_dict\n",
    "proper_names_dict = get_proper_name_dict(500)"
   ]
  },
  {
   "cell_type": "markdown",
   "metadata": {},
   "source": [
    "# Tweet Cleaning from Script Functions"
   ]
  },
  {
   "cell_type": "code",
   "execution_count": null,
   "metadata": {
    "collapsed": false
   },
   "outputs": [],
   "source": [
    "from tweet_cleaning import clean_tweet_df\n",
    "\n",
    "video_game_tweets = clean_tweet_df(video_game_tweets, keyword_list = video_game_keyword_list,\n",
    "                                   name_dict = proper_names_dict, remove = True)\n",
    "\n",
    "unfiltered_tweets = clean_tweet_df(unfiltered_tweets, keyword_list = video_game_keyword_list,\n",
    "                                   name_dict = proper_names_dict, remove = True)"
   ]
  },
  {
   "cell_type": "code",
   "execution_count": null,
   "metadata": {
    "collapsed": true
   },
   "outputs": [],
   "source": [
    "video_game_tweets.to_pickle(\"saved_pickles/cleaned_video_game_tweets.pkl\")\n",
    "unfiltered_tweets.to_pickle(\"saved_pickles/cleaned_unfiltered_tweets.pkl\")"
   ]
  },
  {
   "cell_type": "markdown",
   "metadata": {},
   "source": [
    "# Add Classes and Merge Dataframes into Training and Validation Sets "
   ]
  },
  {
   "cell_type": "code",
   "execution_count": null,
   "metadata": {
    "collapsed": false
   },
   "outputs": [],
   "source": [
    "video_game_tweets[\"saved_pickles/game_related_tweet\"] = 1\n",
    "unfiltered_tweets[\"saved_pickles/game_related_tweet\"] = 0"
   ]
  },
  {
   "cell_type": "code",
   "execution_count": null,
   "metadata": {
    "collapsed": false
   },
   "outputs": [],
   "source": [
    "video_game_tweets_training = video_game_tweets.head(25000)\n",
    "unfiltered_tweets_training = unfiltered_tweets.head(25000)\n",
    "video_game_tweets_validation = video_game_tweets.tail(video_game_tweets.shape[0] - 25000)\n",
    "unfiltered_tweets_validation = unfiltered_tweets.tail(unfiltered_tweets.shape[0] - 25000)\n",
    "\n",
    "video_game_tweets_training.to_pickle(\"saved_pickles/video_game_tweets_training.pkl\")\n",
    "unfiltered_tweets_training.to_pickle(\"saved_pickles/unfiltered_tweets_training.pkl\")\n",
    "video_game_tweets_validation.to_pickle(\"saved_pickles/video_game_tweets_validation.pkl\")\n",
    "unfiltered_tweets_validation.to_pickle(\"saved_pickles/unfiltered_tweets_validation.pkl\")"
   ]
  },
  {
   "cell_type": "code",
   "execution_count": null,
   "metadata": {
    "collapsed": true
   },
   "outputs": [],
   "source": [
    "all_tweets_training = pd.concat([video_game_tweets_training, unfiltered_tweets_training])\n",
    "all_tweets_validation = pd.concat([video_game_tweets_validation, unfiltered_tweets_validation])\n",
    "\n",
    "all_tweets_training.to_pickle(\"saved_pickles/all_tweets_training.pkl\")\n",
    "all_tweets_validation.to_pickle(\"saved_pickles/all_tweets_validation.pkl\")"
   ]
  }
 ],
 "metadata": {
  "kernelspec": {
   "display_name": "Python 2",
   "language": "python",
   "name": "python2"
  },
  "language_info": {
   "codemirror_mode": {
    "name": "ipython",
    "version": 2
   },
   "file_extension": ".py",
   "mimetype": "text/x-python",
   "name": "python",
   "nbconvert_exporter": "python",
   "pygments_lexer": "ipython2",
   "version": "2.7.12"
  }
 },
 "nbformat": 4,
 "nbformat_minor": 2
}
