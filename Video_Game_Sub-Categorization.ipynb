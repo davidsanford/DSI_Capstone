{
 "cells": [
  {
   "cell_type": "markdown",
   "metadata": {},
   "source": [
    "## Load Data Using Spark"
   ]
  },
  {
   "cell_type": "code",
   "execution_count": 169,
   "metadata": {
    "collapsed": true
   },
   "outputs": [],
   "source": [
    "import numpy as np\n",
    "import pandas as pd\n",
    "import json\n",
    "import re"
   ]
  },
  {
   "cell_type": "code",
   "execution_count": 170,
   "metadata": {
    "collapsed": false
   },
   "outputs": [],
   "source": [
    "import matplotlib.pyplot as plt\n",
    "%matplotlib inline"
   ]
  },
  {
   "cell_type": "code",
   "execution_count": 171,
   "metadata": {
    "collapsed": false
   },
   "outputs": [],
   "source": [
    "video_game_tweets_training = pd.read_pickle(\"saved_pickles/video_game_tweets_training.pkl\")\n",
    "video_game_tweets_validation = pd.read_pickle(\"saved_pickles/video_game_tweets_validation.pkl\")"
   ]
  },
  {
   "cell_type": "code",
   "execution_count": 172,
   "metadata": {
    "collapsed": false
   },
   "outputs": [],
   "source": [
    "video_game_tweets = pd.concat([video_game_tweets_training, video_game_tweets_validation])"
   ]
  },
  {
   "cell_type": "markdown",
   "metadata": {},
   "source": [
    "# Get Video Game Keyword List"
   ]
  },
  {
   "cell_type": "code",
   "execution_count": 173,
   "metadata": {
    "collapsed": false
   },
   "outputs": [],
   "source": [
    "video_game_keyword_list = open(\"Video_Game_Keyword_List.txt\", \"r\").read().split(\"\\n\")\n",
    "video_game_keyword_list.remove('')"
   ]
  },
  {
   "cell_type": "code",
   "execution_count": 174,
   "metadata": {
    "collapsed": false
   },
   "outputs": [],
   "source": [
    "from sklearn.externals import joblib\n",
    "\n",
    "vectorizer = joblib.load(\"saved_pickles/lsa_vectorizer.pkl\")\n",
    "svd = joblib.load(\"saved_pickles/lsa_svd.pkl\")"
   ]
  },
  {
   "cell_type": "code",
   "execution_count": 175,
   "metadata": {
    "collapsed": false
   },
   "outputs": [],
   "source": [
    "from lib.lsa import run_lsa\n",
    "\n",
    "video_game_tweets_lsa = run_lsa(video_game_tweets, vectorizer, svd)\n",
    "\n",
    "#video_game_tweets_training_lsa = run_lsa(video_game_tweets_training, vectorizer, svd)\n",
    "#video_game_tweets_validation_lsa = run_lsa(video_game_tweets_validation, vectorizer, svd)"
   ]
  },
  {
   "cell_type": "markdown",
   "metadata": {},
   "source": [
    "# Relative Prevalence of Keywords"
   ]
  },
  {
   "cell_type": "code",
   "execution_count": 193,
   "metadata": {
    "collapsed": false
   },
   "outputs": [
    {
     "data": {
      "text/html": [
       "<div>\n",
       "<table border=\"1\" class=\"dataframe\">\n",
       "  <thead>\n",
       "    <tr style=\"text-align: right;\">\n",
       "      <th></th>\n",
       "      <th>Keyword</th>\n",
       "      <th>Percentage</th>\n",
       "      <th>Total</th>\n",
       "    </tr>\n",
       "  </thead>\n",
       "  <tbody>\n",
       "    <tr>\n",
       "      <th>7</th>\n",
       "      <td>Zelda</td>\n",
       "      <td>35.056</td>\n",
       "      <td>8764</td>\n",
       "    </tr>\n",
       "    <tr>\n",
       "      <th>61</th>\n",
       "      <td>Overwatch</td>\n",
       "      <td>11.116</td>\n",
       "      <td>2779</td>\n",
       "    </tr>\n",
       "    <tr>\n",
       "      <th>79</th>\n",
       "      <td>Pokemon</td>\n",
       "      <td>7.452</td>\n",
       "      <td>1863</td>\n",
       "    </tr>\n",
       "    <tr>\n",
       "      <th>57</th>\n",
       "      <td>Minecraft</td>\n",
       "      <td>5.260</td>\n",
       "      <td>1315</td>\n",
       "    </tr>\n",
       "    <tr>\n",
       "      <th>29</th>\n",
       "      <td>Mario</td>\n",
       "      <td>5.196</td>\n",
       "      <td>1299</td>\n",
       "    </tr>\n",
       "    <tr>\n",
       "      <th>39</th>\n",
       "      <td>Halo</td>\n",
       "      <td>3.072</td>\n",
       "      <td>768</td>\n",
       "    </tr>\n",
       "    <tr>\n",
       "      <th>16</th>\n",
       "      <td>Sonic</td>\n",
       "      <td>3.052</td>\n",
       "      <td>763</td>\n",
       "    </tr>\n",
       "    <tr>\n",
       "      <th>8</th>\n",
       "      <td>Mass Effect</td>\n",
       "      <td>2.980</td>\n",
       "      <td>745</td>\n",
       "    </tr>\n",
       "    <tr>\n",
       "      <th>22</th>\n",
       "      <td>Resident Evil</td>\n",
       "      <td>2.592</td>\n",
       "      <td>648</td>\n",
       "    </tr>\n",
       "    <tr>\n",
       "      <th>76</th>\n",
       "      <td>Call of Duty</td>\n",
       "      <td>2.108</td>\n",
       "      <td>527</td>\n",
       "    </tr>\n",
       "  </tbody>\n",
       "</table>\n",
       "</div>"
      ],
      "text/plain": [
       "          Keyword  Percentage  Total\n",
       "7           Zelda      35.056   8764\n",
       "61      Overwatch      11.116   2779\n",
       "79        Pokemon       7.452   1863\n",
       "57      Minecraft       5.260   1315\n",
       "29          Mario       5.196   1299\n",
       "39           Halo       3.072    768\n",
       "16          Sonic       3.052    763\n",
       "8     Mass Effect       2.980    745\n",
       "22  Resident Evil       2.592    648\n",
       "76   Call of Duty       2.108    527"
      ]
     },
     "execution_count": 193,
     "metadata": {},
     "output_type": "execute_result"
    }
   ],
   "source": [
    "keyword_classes = video_game_tweets_training[\"keyword_matches\"]\n",
    "\n",
    "keyword_relevance_df = pd.DataFrame([{\"Keyword\":word, \\\n",
    "                                      \"Percentage\":100.0 * np.mean(keyword_classes == word),\n",
    "                                      \"Total\":np.sum(keyword_classes == word)} \\\n",
    "                                     for word in list(set(keyword_classes))]).sort_values(\"Percentage\",\n",
    "                                                                                          ascending=False)\n",
    "\n",
    "keyword_relevance_df.head(10)\n"
   ]
  },
  {
   "cell_type": "markdown",
   "metadata": {},
   "source": [
    "# Group Tweets by Keyword Match"
   ]
  },
  {
   "cell_type": "code",
   "execution_count": 176,
   "metadata": {
    "collapsed": false
   },
   "outputs": [],
   "source": [
    "keyword_corpus = pd.DataFrame(video_game_tweets.groupby(\"keyword_matches\")[\"cleaned_text\"].agg(lambda x: \" \".join(x)))"
   ]
  },
  {
   "cell_type": "code",
   "execution_count": 177,
   "metadata": {
    "collapsed": false
   },
   "outputs": [
    {
     "data": {
      "text/html": [
       "<div>\n",
       "<table border=\"1\" class=\"dataframe\">\n",
       "  <thead>\n",
       "    <tr style=\"text-align: right;\">\n",
       "      <th></th>\n",
       "      <th>cleaned_text</th>\n",
       "    </tr>\n",
       "    <tr>\n",
       "      <th>keyword_matches</th>\n",
       "      <th></th>\n",
       "    </tr>\n",
       "  </thead>\n",
       "  <tbody>\n",
       "    <tr>\n",
       "      <th>Angry Birds</th>\n",
       "      <td>blast level 284 blast level 285 blast level 28...</td>\n",
       "    </tr>\n",
       "    <tr>\n",
       "      <th>Animal Crossing</th>\n",
       "      <td>what is when i play , i use pinterest to find ...</td>\n",
       "    </tr>\n",
       "    <tr>\n",
       "      <th>Assassin's Creed</th>\n",
       "      <td>if you missed it won the vote. brings back mem...</td>\n",
       "    </tr>\n",
       "    <tr>\n",
       "      <th>BioShock</th>\n",
       "      <td>how quickly can you complete a hacking puzzle?...</td>\n",
       "    </tr>\n",
       "    <tr>\n",
       "      <th>Block Breaker</th>\n",
       "      <td>art - hiro hamada - i love this film so much a...</td>\n",
       "    </tr>\n",
       "  </tbody>\n",
       "</table>\n",
       "</div>"
      ],
      "text/plain": [
       "                                                       cleaned_text\n",
       "keyword_matches                                                    \n",
       "Angry Birds       blast level 284 blast level 285 blast level 28...\n",
       "Animal Crossing   what is when i play , i use pinterest to find ...\n",
       "Assassin's Creed  if you missed it won the vote. brings back mem...\n",
       "BioShock          how quickly can you complete a hacking puzzle?...\n",
       "Block Breaker     art - hiro hamada - i love this film so much a..."
      ]
     },
     "execution_count": 177,
     "metadata": {},
     "output_type": "execute_result"
    }
   ],
   "source": [
    "keyword_corpus.head()"
   ]
  },
  {
   "cell_type": "markdown",
   "metadata": {},
   "source": [
    "# Perform Count Vectorization"
   ]
  },
  {
   "cell_type": "code",
   "execution_count": 178,
   "metadata": {
    "collapsed": true
   },
   "outputs": [],
   "source": [
    "from sklearn.feature_extraction.text import CountVectorizer"
   ]
  },
  {
   "cell_type": "code",
   "execution_count": 179,
   "metadata": {
    "collapsed": false
   },
   "outputs": [],
   "source": [
    "cv = CountVectorizer(max_df = 0.25, min_df = 2, stop_words=None)"
   ]
  },
  {
   "cell_type": "code",
   "execution_count": 180,
   "metadata": {
    "collapsed": false
   },
   "outputs": [],
   "source": [
    "cv.fit(keyword_corpus[\"cleaned_text\"])\n",
    "video_game_tweets_cv = pd.DataFrame(cv.transform(keyword_corpus[\"cleaned_text\"]).todense())\n",
    "#video_game_tweets_cv.columns = cv.get_feature_names"
   ]
  },
  {
   "cell_type": "code",
   "execution_count": 181,
   "metadata": {
    "collapsed": false
   },
   "outputs": [],
   "source": [
    "video_game_tweets_cv.columns = cv.get_feature_names()"
   ]
  },
  {
   "cell_type": "code",
   "execution_count": 182,
   "metadata": {
    "collapsed": false
   },
   "outputs": [
    {
     "data": {
      "text/plain": [
       "<86x9821 sparse matrix of type '<type 'numpy.int64'>'\n",
       "\twith 49120 stored elements in Compressed Sparse Row format>"
      ]
     },
     "execution_count": 182,
     "metadata": {},
     "output_type": "execute_result"
    }
   ],
   "source": [
    "cv.fit_transform(keyword_corpus[\"cleaned_text\"])"
   ]
  },
  {
   "cell_type": "code",
   "execution_count": 183,
   "metadata": {
    "collapsed": false
   },
   "outputs": [
    {
     "data": {
      "text/html": [
       "<div>\n",
       "<table border=\"1\" class=\"dataframe\">\n",
       "  <thead>\n",
       "    <tr style=\"text-align: right;\">\n",
       "      <th></th>\n",
       "      <th>00</th>\n",
       "      <th>000</th>\n",
       "      <th>006</th>\n",
       "      <th>007</th>\n",
       "      <th>01</th>\n",
       "      <th>02</th>\n",
       "      <th>03</th>\n",
       "      <th>04</th>\n",
       "      <th>05</th>\n",
       "      <th>06</th>\n",
       "      <th>...</th>\n",
       "      <th>zone</th>\n",
       "      <th>zoned</th>\n",
       "      <th>zones</th>\n",
       "      <th>zoom</th>\n",
       "      <th>ʸᵒᵘ</th>\n",
       "      <th>обзор</th>\n",
       "      <th>персонаж</th>\n",
       "      <th>דרך</th>\n",
       "      <th>منارة_التقنية</th>\n",
       "      <th>パズドラ</th>\n",
       "    </tr>\n",
       "  </thead>\n",
       "  <tbody>\n",
       "    <tr>\n",
       "      <th>0</th>\n",
       "      <td>0</td>\n",
       "      <td>0</td>\n",
       "      <td>0</td>\n",
       "      <td>0</td>\n",
       "      <td>0</td>\n",
       "      <td>0</td>\n",
       "      <td>13</td>\n",
       "      <td>0</td>\n",
       "      <td>0</td>\n",
       "      <td>0</td>\n",
       "      <td>...</td>\n",
       "      <td>0</td>\n",
       "      <td>0</td>\n",
       "      <td>0</td>\n",
       "      <td>0</td>\n",
       "      <td>0</td>\n",
       "      <td>0</td>\n",
       "      <td>0</td>\n",
       "      <td>0</td>\n",
       "      <td>0</td>\n",
       "      <td>0</td>\n",
       "    </tr>\n",
       "    <tr>\n",
       "      <th>1</th>\n",
       "      <td>0</td>\n",
       "      <td>0</td>\n",
       "      <td>0</td>\n",
       "      <td>0</td>\n",
       "      <td>0</td>\n",
       "      <td>0</td>\n",
       "      <td>0</td>\n",
       "      <td>0</td>\n",
       "      <td>0</td>\n",
       "      <td>0</td>\n",
       "      <td>...</td>\n",
       "      <td>0</td>\n",
       "      <td>0</td>\n",
       "      <td>0</td>\n",
       "      <td>0</td>\n",
       "      <td>0</td>\n",
       "      <td>0</td>\n",
       "      <td>0</td>\n",
       "      <td>0</td>\n",
       "      <td>0</td>\n",
       "      <td>0</td>\n",
       "    </tr>\n",
       "    <tr>\n",
       "      <th>2</th>\n",
       "      <td>2</td>\n",
       "      <td>0</td>\n",
       "      <td>0</td>\n",
       "      <td>0</td>\n",
       "      <td>0</td>\n",
       "      <td>0</td>\n",
       "      <td>0</td>\n",
       "      <td>0</td>\n",
       "      <td>0</td>\n",
       "      <td>0</td>\n",
       "      <td>...</td>\n",
       "      <td>0</td>\n",
       "      <td>0</td>\n",
       "      <td>0</td>\n",
       "      <td>0</td>\n",
       "      <td>0</td>\n",
       "      <td>0</td>\n",
       "      <td>0</td>\n",
       "      <td>0</td>\n",
       "      <td>0</td>\n",
       "      <td>0</td>\n",
       "    </tr>\n",
       "    <tr>\n",
       "      <th>3</th>\n",
       "      <td>0</td>\n",
       "      <td>0</td>\n",
       "      <td>0</td>\n",
       "      <td>0</td>\n",
       "      <td>0</td>\n",
       "      <td>2</td>\n",
       "      <td>0</td>\n",
       "      <td>0</td>\n",
       "      <td>0</td>\n",
       "      <td>0</td>\n",
       "      <td>...</td>\n",
       "      <td>0</td>\n",
       "      <td>0</td>\n",
       "      <td>0</td>\n",
       "      <td>0</td>\n",
       "      <td>0</td>\n",
       "      <td>0</td>\n",
       "      <td>0</td>\n",
       "      <td>0</td>\n",
       "      <td>0</td>\n",
       "      <td>0</td>\n",
       "    </tr>\n",
       "    <tr>\n",
       "      <th>4</th>\n",
       "      <td>0</td>\n",
       "      <td>0</td>\n",
       "      <td>0</td>\n",
       "      <td>0</td>\n",
       "      <td>0</td>\n",
       "      <td>0</td>\n",
       "      <td>0</td>\n",
       "      <td>0</td>\n",
       "      <td>0</td>\n",
       "      <td>0</td>\n",
       "      <td>...</td>\n",
       "      <td>0</td>\n",
       "      <td>0</td>\n",
       "      <td>0</td>\n",
       "      <td>0</td>\n",
       "      <td>0</td>\n",
       "      <td>0</td>\n",
       "      <td>0</td>\n",
       "      <td>0</td>\n",
       "      <td>0</td>\n",
       "      <td>0</td>\n",
       "    </tr>\n",
       "  </tbody>\n",
       "</table>\n",
       "<p>5 rows × 9821 columns</p>\n",
       "</div>"
      ],
      "text/plain": [
       "   00  000  006  007  01  02  03  04  05  06  ...   zone  zoned  zones  zoom  \\\n",
       "0   0    0    0    0   0   0  13   0   0   0  ...      0      0      0     0   \n",
       "1   0    0    0    0   0   0   0   0   0   0  ...      0      0      0     0   \n",
       "2   2    0    0    0   0   0   0   0   0   0  ...      0      0      0     0   \n",
       "3   0    0    0    0   0   2   0   0   0   0  ...      0      0      0     0   \n",
       "4   0    0    0    0   0   0   0   0   0   0  ...      0      0      0     0   \n",
       "\n",
       "   ʸᵒᵘ  обзор  персонаж  דרך  منارة_التقنية  パズドラ  \n",
       "0    0      0         0    0              0     0  \n",
       "1    0      0         0    0              0     0  \n",
       "2    0      0         0    0              0     0  \n",
       "3    0      0         0    0              0     0  \n",
       "4    0      0         0    0              0     0  \n",
       "\n",
       "[5 rows x 9821 columns]"
      ]
     },
     "execution_count": 183,
     "metadata": {},
     "output_type": "execute_result"
    }
   ],
   "source": [
    "video_game_tweets_cv.head()"
   ]
  },
  {
   "cell_type": "markdown",
   "metadata": {},
   "source": [
    "# Generate a Clustering Algorithm"
   ]
  },
  {
   "cell_type": "code",
   "execution_count": 184,
   "metadata": {
    "collapsed": true
   },
   "outputs": [],
   "source": [
    "from lib.lsa import lsa_pipeline"
   ]
  },
  {
   "cell_type": "code",
   "execution_count": 185,
   "metadata": {
    "collapsed": false
   },
   "outputs": [],
   "source": [
    "keyword_corpus_lsa, vectorizer, svd = lsa_pipeline(keyword_corpus, max_df = 0.5, min_df = 2,\n",
    "                                                   stop_words=\"english\", num_components=50)"
   ]
  },
  {
   "cell_type": "code",
   "execution_count": 186,
   "metadata": {
    "collapsed": false
   },
   "outputs": [
    {
     "data": {
      "text/plain": [
       "(86, 50)"
      ]
     },
     "execution_count": 186,
     "metadata": {},
     "output_type": "execute_result"
    }
   ],
   "source": [
    "keyword_corpus_lsa.shape"
   ]
  },
  {
   "cell_type": "code",
   "execution_count": 187,
   "metadata": {
    "collapsed": false
   },
   "outputs": [
    {
     "data": {
      "text/plain": [
       "(86,)"
      ]
     },
     "execution_count": 187,
     "metadata": {},
     "output_type": "execute_result"
    }
   ],
   "source": [
    "keyword_corpus.index.shape"
   ]
  },
  {
   "cell_type": "code",
   "execution_count": null,
   "metadata": {
    "collapsed": true
   },
   "outputs": [],
   "source": []
  },
  {
   "cell_type": "code",
   "execution_count": null,
   "metadata": {
    "collapsed": true
   },
   "outputs": [],
   "source": []
  },
  {
   "cell_type": "code",
   "execution_count": null,
   "metadata": {
    "collapsed": true
   },
   "outputs": [],
   "source": []
  },
  {
   "cell_type": "code",
   "execution_count": 188,
   "metadata": {
    "collapsed": true
   },
   "outputs": [],
   "source": [
    "from sklearn.preprocessing import StandardScaler\n",
    "from sklearn.cluster import KMeans\n",
    "from sklearn.manifold import TSNE\n",
    "from sklearn.metrics import silhouette_score"
   ]
  },
  {
   "cell_type": "code",
   "execution_count": 136,
   "metadata": {
    "collapsed": false
   },
   "outputs": [],
   "source": [
    "#tweet_subset = video_game_tweets_training_lsa[video_game_tweets_training[\"keyword_matches\"].apply( \\\n",
    "#                                                        lambda word: word in restricted_keyword_classes)]\n",
    "\n",
    "silhouettes = []\n",
    "\n",
    "for n in range(2,21):\n",
    "\n",
    "    kmeans = KMeans(n_clusters= n)\n",
    "    kmeans.fit(keyword_corpus_lsa)\n",
    "\n",
    "    game_labels = kmeans.predict(keyword_corpus_lsa)\n",
    "    score = silhouette_score(keyword_corpus_lsa, game_labels)\n",
    "\n",
    "    silhouettes.append({\"N\":n, \"Silhouette Score\":score})\n",
    "\n",
    "silhouettes_df = pd.DataFrame(silhouettes)"
   ]
  },
  {
   "cell_type": "code",
   "execution_count": 137,
   "metadata": {
    "collapsed": false
   },
   "outputs": [
    {
     "data": {
      "text/html": [
       "<div>\n",
       "<table border=\"1\" class=\"dataframe\">\n",
       "  <thead>\n",
       "    <tr style=\"text-align: right;\">\n",
       "      <th></th>\n",
       "      <th>N</th>\n",
       "      <th>Silhouette Score</th>\n",
       "    </tr>\n",
       "  </thead>\n",
       "  <tbody>\n",
       "    <tr>\n",
       "      <th>0</th>\n",
       "      <td>2</td>\n",
       "      <td>-0.006199</td>\n",
       "    </tr>\n",
       "    <tr>\n",
       "      <th>1</th>\n",
       "      <td>3</td>\n",
       "      <td>-0.014280</td>\n",
       "    </tr>\n",
       "    <tr>\n",
       "      <th>2</th>\n",
       "      <td>4</td>\n",
       "      <td>-0.019014</td>\n",
       "    </tr>\n",
       "    <tr>\n",
       "      <th>3</th>\n",
       "      <td>5</td>\n",
       "      <td>0.001444</td>\n",
       "    </tr>\n",
       "    <tr>\n",
       "      <th>4</th>\n",
       "      <td>6</td>\n",
       "      <td>0.000443</td>\n",
       "    </tr>\n",
       "    <tr>\n",
       "      <th>5</th>\n",
       "      <td>7</td>\n",
       "      <td>0.021026</td>\n",
       "    </tr>\n",
       "    <tr>\n",
       "      <th>6</th>\n",
       "      <td>8</td>\n",
       "      <td>0.017772</td>\n",
       "    </tr>\n",
       "    <tr>\n",
       "      <th>7</th>\n",
       "      <td>9</td>\n",
       "      <td>-0.001456</td>\n",
       "    </tr>\n",
       "    <tr>\n",
       "      <th>8</th>\n",
       "      <td>10</td>\n",
       "      <td>0.020238</td>\n",
       "    </tr>\n",
       "    <tr>\n",
       "      <th>9</th>\n",
       "      <td>11</td>\n",
       "      <td>0.023304</td>\n",
       "    </tr>\n",
       "    <tr>\n",
       "      <th>10</th>\n",
       "      <td>12</td>\n",
       "      <td>0.016833</td>\n",
       "    </tr>\n",
       "    <tr>\n",
       "      <th>11</th>\n",
       "      <td>13</td>\n",
       "      <td>0.027381</td>\n",
       "    </tr>\n",
       "    <tr>\n",
       "      <th>12</th>\n",
       "      <td>14</td>\n",
       "      <td>0.032938</td>\n",
       "    </tr>\n",
       "    <tr>\n",
       "      <th>13</th>\n",
       "      <td>15</td>\n",
       "      <td>0.023671</td>\n",
       "    </tr>\n",
       "    <tr>\n",
       "      <th>14</th>\n",
       "      <td>16</td>\n",
       "      <td>0.043913</td>\n",
       "    </tr>\n",
       "    <tr>\n",
       "      <th>15</th>\n",
       "      <td>17</td>\n",
       "      <td>0.046368</td>\n",
       "    </tr>\n",
       "    <tr>\n",
       "      <th>16</th>\n",
       "      <td>18</td>\n",
       "      <td>0.047819</td>\n",
       "    </tr>\n",
       "    <tr>\n",
       "      <th>17</th>\n",
       "      <td>19</td>\n",
       "      <td>0.071257</td>\n",
       "    </tr>\n",
       "    <tr>\n",
       "      <th>18</th>\n",
       "      <td>20</td>\n",
       "      <td>0.047512</td>\n",
       "    </tr>\n",
       "  </tbody>\n",
       "</table>\n",
       "</div>"
      ],
      "text/plain": [
       "     N  Silhouette Score\n",
       "0    2         -0.006199\n",
       "1    3         -0.014280\n",
       "2    4         -0.019014\n",
       "3    5          0.001444\n",
       "4    6          0.000443\n",
       "5    7          0.021026\n",
       "6    8          0.017772\n",
       "7    9         -0.001456\n",
       "8   10          0.020238\n",
       "9   11          0.023304\n",
       "10  12          0.016833\n",
       "11  13          0.027381\n",
       "12  14          0.032938\n",
       "13  15          0.023671\n",
       "14  16          0.043913\n",
       "15  17          0.046368\n",
       "16  18          0.047819\n",
       "17  19          0.071257\n",
       "18  20          0.047512"
      ]
     },
     "execution_count": 137,
     "metadata": {},
     "output_type": "execute_result"
    }
   ],
   "source": [
    "silhouettes_df"
   ]
  },
  {
   "cell_type": "code",
   "execution_count": 150,
   "metadata": {
    "collapsed": false
   },
   "outputs": [
    {
     "data": {
      "text/plain": [
       "KMeans(algorithm='auto', copy_x=True, init='k-means++', max_iter=300,\n",
       "    n_clusters=10, n_init=10, n_jobs=1, precompute_distances='auto',\n",
       "    random_state=None, tol=0.0001, verbose=0)"
      ]
     },
     "execution_count": 150,
     "metadata": {},
     "output_type": "execute_result"
    }
   ],
   "source": [
    "num_clusters = 10\n",
    "kmeans = KMeans(n_clusters=num_clusters)\n",
    "kmeans.fit(keyword_corpus_lsa)"
   ]
  },
  {
   "cell_type": "code",
   "execution_count": 151,
   "metadata": {
    "collapsed": false
   },
   "outputs": [],
   "source": [
    "keyword_corpus[\"Cluster\"] = kmeans.predict(keyword_corpus_lsa)"
   ]
  },
  {
   "cell_type": "code",
   "execution_count": 152,
   "metadata": {
    "collapsed": false
   },
   "outputs": [
    {
     "data": {
      "text/plain": [
       "{0: ['Animal Crossing',\n",
       "  'Metroid',\n",
       "  'Shadow of the Colossus',\n",
       "  'Splatoon',\n",
       "  'Xenogears',\n",
       "  'Zelda'],\n",
       " 1: ['Call of Duty',\n",
       "  'God of War',\n",
       "  'Grand Theft Auto',\n",
       "  'Kingdom Hearts',\n",
       "  'Madden NFL',\n",
       "  'Skyrim',\n",
       "  'Star Wars: Battlefront',\n",
       "  'The Elder Scrolls',\n",
       "  'Uncharted'],\n",
       " 2: ['Chrono Trigger',\n",
       "  'EarthBound',\n",
       "  'Final Fantasy',\n",
       "  'Mass Effect',\n",
       "  'Mortal Combat',\n",
       "  'Shenmue',\n",
       "  'SoulCalibur',\n",
       "  'Star Fox',\n",
       "  'Tomb Raider'],\n",
       " 3: [\"Assassin's Creed\", 'Last of Us', 'Silent Hill', 'Street Fighter'],\n",
       " 4: ['Candy Crush',\n",
       "  'Dark Souls',\n",
       "  'Deus Ex',\n",
       "  'Diablo',\n",
       "  'Donkey Kong',\n",
       "  'Duck Hunt',\n",
       "  'Fire Emblem',\n",
       "  'Fruit Ninja',\n",
       "  'Galaga',\n",
       "  'Galaxian',\n",
       "  \"Garry's Mod\",\n",
       "  'Halo',\n",
       "  'Ico',\n",
       "  'Lemmings',\n",
       "  'Mario',\n",
       "  'Minecraft',\n",
       "  'Monster Hunter',\n",
       "  'Morrowind',\n",
       "  'Myst',\n",
       "  'Need for Speed',\n",
       "  'Overwatch',\n",
       "  'Pac-Man',\n",
       "  'Perfect Dark',\n",
       "  'Pong',\n",
       "  'Portal',\n",
       "  'Sonic',\n",
       "  'StarCraft',\n",
       "  'Super Smash',\n",
       "  'Terraria',\n",
       "  'The Sims',\n",
       "  'Wii Fit',\n",
       "  'Wii Sports'],\n",
       " 5: ['Metal Gear'],\n",
       " 6: ['Castlevania', 'Double Dragon', 'Kirby', 'Mega Man', 'Pokemon'],\n",
       " 7: ['Prince of Persia', 'Resident Evil', \"Tom Clancy's\"],\n",
       " 8: ['Angry Birds', 'Block Breaker', 'Half-Life'],\n",
       " 9: ['BioShock',\n",
       "  'Brain Age',\n",
       "  'Counter-Strike ',\n",
       "  'Crysis',\n",
       "  'Doodle Jump',\n",
       "  'Doom',\n",
       "  'Dynasty Warriors',\n",
       "  'Fallout',\n",
       "  'Grim Fandango',\n",
       "  'Okami',\n",
       "  'Red Dead',\n",
       "  'Tekken',\n",
       "  'Tetris',\n",
       "  'World of Warcraft']}"
      ]
     },
     "execution_count": 152,
     "metadata": {},
     "output_type": "execute_result"
    }
   ],
   "source": [
    "{i:list(keyword_corpus[keyword_corpus[\"Cluster\"] == i].index) for i in range(num_clusters)} "
   ]
  },
  {
   "cell_type": "code",
   "execution_count": null,
   "metadata": {
    "collapsed": true
   },
   "outputs": [],
   "source": []
  },
  {
   "cell_type": "code",
   "execution_count": null,
   "metadata": {
    "collapsed": true
   },
   "outputs": [],
   "source": []
  },
  {
   "cell_type": "code",
   "execution_count": null,
   "metadata": {
    "collapsed": true
   },
   "outputs": [],
   "source": []
  },
  {
   "cell_type": "code",
   "execution_count": null,
   "metadata": {
    "collapsed": true
   },
   "outputs": [],
   "source": []
  },
  {
   "cell_type": "code",
   "execution_count": null,
   "metadata": {
    "collapsed": true
   },
   "outputs": [],
   "source": []
  },
  {
   "cell_type": "code",
   "execution_count": null,
   "metadata": {
    "collapsed": false
   },
   "outputs": [],
   "source": [
    "cluster_ordering = pd.DataFrame([{i:word for i,word in \\\n",
    "    enumerate(sorted([(word, 1.0 * np.sum((video_game_tweets_training[\"Cluster\"] == j) &\n",
    "                                          (video_game_tweets_training[\"keyword_matches\"] == word)) /\n",
    "                       np.sum(video_game_tweets_training[\"keyword_matches\"] == word)) for word in list(set(keyword_classes))],\n",
    "                    reverse = True, key=lambda x: x[1]))}\n",
    "                                 for j in range(kmeans.n_clusters)]\n",
    "                               ).T"
   ]
  },
  {
   "cell_type": "code",
   "execution_count": null,
   "metadata": {
    "collapsed": true
   },
   "outputs": [],
   "source": []
  },
  {
   "cell_type": "code",
   "execution_count": 189,
   "metadata": {
    "collapsed": false
   },
   "outputs": [
    {
     "data": {
      "text/html": [
       "<div>\n",
       "<table border=\"1\" class=\"dataframe\">\n",
       "  <thead>\n",
       "    <tr style=\"text-align: right;\">\n",
       "      <th></th>\n",
       "      <th>text</th>\n",
       "      <th>keyword_matches</th>\n",
       "      <th>cleaned_text</th>\n",
       "      <th>game_related_tweet</th>\n",
       "    </tr>\n",
       "  </thead>\n",
       "  <tbody>\n",
       "    <tr>\n",
       "      <th>0</th>\n",
       "      <td>Zelda's super neat but I've experienced more s...</td>\n",
       "      <td>Zelda</td>\n",
       "      <td>'s super neat but i've experienced more severe...</td>\n",
       "      <td>1</td>\n",
       "    </tr>\n",
       "    <tr>\n",
       "      <th>1</th>\n",
       "      <td>RT @NintendoAmerica: The adventure begins. #Ni...</td>\n",
       "      <td>Zelda</td>\n",
       "      <td>the adventure begins.</td>\n",
       "      <td>1</td>\n",
       "    </tr>\n",
       "    <tr>\n",
       "      <th>2</th>\n",
       "      <td>.@Ingeborgburger @Derpfield you two know me so...</td>\n",
       "      <td>Pokemon</td>\n",
       "      <td>. you two know me so well you both sent me tot...</td>\n",
       "      <td>1</td>\n",
       "    </tr>\n",
       "    <tr>\n",
       "      <th>6</th>\n",
       "      <td>RT @jacksfilms: Still in shock over IGN's Zeld...</td>\n",
       "      <td>Zelda</td>\n",
       "      <td>still in shock over ign's review</td>\n",
       "      <td>1</td>\n",
       "    </tr>\n",
       "    <tr>\n",
       "      <th>7</th>\n",
       "      <td>RT @AngryJoeShow: Just got back home! So you h...</td>\n",
       "      <td>Zelda</td>\n",
       "      <td>just got back home! so you have an idea this i...</td>\n",
       "      <td>1</td>\n",
       "    </tr>\n",
       "    <tr>\n",
       "      <th>8</th>\n",
       "      <td>RT @NintendoAmerica: The adventure begins. #Ni...</td>\n",
       "      <td>Zelda</td>\n",
       "      <td>the adventure begins.</td>\n",
       "      <td>1</td>\n",
       "    </tr>\n",
       "    <tr>\n",
       "      <th>9</th>\n",
       "      <td>Has #Overwatch Had Its Release Date Leaked? #O...</td>\n",
       "      <td>Overwatch</td>\n",
       "      <td>has had its release date leaked?</td>\n",
       "      <td>1</td>\n",
       "    </tr>\n",
       "    <tr>\n",
       "      <th>12</th>\n",
       "      <td>Overwatch Cinematic Teaser: Are You With Us? #...</td>\n",
       "      <td>Overwatch</td>\n",
       "      <td>cinematic teaser: are you with us?</td>\n",
       "      <td>1</td>\n",
       "    </tr>\n",
       "    <tr>\n",
       "      <th>13</th>\n",
       "      <td>How To Spot The Difference Between Battleborn ...</td>\n",
       "      <td>Overwatch</td>\n",
       "      <td>how to spot the difference between battleborn and</td>\n",
       "      <td>1</td>\n",
       "    </tr>\n",
       "    <tr>\n",
       "      <th>15</th>\n",
       "      <td>RT @MelSmithJones: I analyze providers, and @S...</td>\n",
       "      <td>Portal</td>\n",
       "      <td>i analyze providers, and is the most promising...</td>\n",
       "      <td>1</td>\n",
       "    </tr>\n",
       "    <tr>\n",
       "      <th>17</th>\n",
       "      <td>@ShittyMario don't talk to me or my shitty mar...</td>\n",
       "      <td>Mario</td>\n",
       "      <td>don't talk to me or my shitty son ever again</td>\n",
       "      <td>1</td>\n",
       "    </tr>\n",
       "    <tr>\n",
       "      <th>19</th>\n",
       "      <td>Metal gear Profiles: Morpho and Peqoud https:/...</td>\n",
       "      <td>Metal Gear</td>\n",
       "      <td>profiles: morpho and peqoud</td>\n",
       "      <td>1</td>\n",
       "    </tr>\n",
       "    <tr>\n",
       "      <th>20</th>\n",
       "      <td>$525 BUNDLE of 3 Nintendo Switch Gray Console ...</td>\n",
       "      <td>Zelda</td>\n",
       "      <td>bundle of 3 nintendo switch gray console and l...</td>\n",
       "      <td>1</td>\n",
       "    </tr>\n",
       "    <tr>\n",
       "      <th>22</th>\n",
       "      <td>RT @NinEverything: Zelda: Breath of the Wild –...</td>\n",
       "      <td>Zelda</td>\n",
       "      <td>: breath of the wild switch docked vs. undocke...</td>\n",
       "      <td>1</td>\n",
       "    </tr>\n",
       "    <tr>\n",
       "      <th>23</th>\n",
       "      <td>RT @alpharadtv: I'm so glad that the new Zelda...</td>\n",
       "      <td>Zelda</td>\n",
       "      <td>i'm so glad that the new game comes out soon. ...</td>\n",
       "      <td>1</td>\n",
       "    </tr>\n",
       "    <tr>\n",
       "      <th>25</th>\n",
       "      <td>ana lesh doom a7b lnas l'3l6:)?</td>\n",
       "      <td>Doom</td>\n",
       "      <td>ana lesh a lnas l'</td>\n",
       "      <td>1</td>\n",
       "    </tr>\n",
       "    <tr>\n",
       "      <th>26</th>\n",
       "      <td>RT @TheJonesyTweets: Live now! Sick. :(\\n\\nhtt...</td>\n",
       "      <td>Overwatch</td>\n",
       "      <td>live now! sick. :(</td>\n",
       "      <td>1</td>\n",
       "    </tr>\n",
       "    <tr>\n",
       "      <th>28</th>\n",
       "      <td>RT @kristvav: #Overwatch Backstory Explained F...</td>\n",
       "      <td>Overwatch</td>\n",
       "      <td>backstory explained further in new video, wins...</td>\n",
       "      <td>1</td>\n",
       "    </tr>\n",
       "    <tr>\n",
       "      <th>30</th>\n",
       "      <td>RT @NintendoAmerica: The adventure begins. #Ni...</td>\n",
       "      <td>Zelda</td>\n",
       "      <td>the adventure begins.</td>\n",
       "      <td>1</td>\n",
       "    </tr>\n",
       "    <tr>\n",
       "      <th>34</th>\n",
       "      <td>RT @vicklty: 03-03 #Overwatch’s Open Beta Won’...</td>\n",
       "      <td>Overwatch</td>\n",
       "      <td>03 s open beta won t feature...</td>\n",
       "      <td>1</td>\n",
       "    </tr>\n",
       "    <tr>\n",
       "      <th>36</th>\n",
       "      <td>New Overwatch PC Beta Dates Announced #Overwat...</td>\n",
       "      <td>Overwatch</td>\n",
       "      <td>new pc beta dates announced</td>\n",
       "      <td>1</td>\n",
       "    </tr>\n",
       "    <tr>\n",
       "      <th>37</th>\n",
       "      <td>RT @JonTronShow: So basically every moment bet...</td>\n",
       "      <td>Zelda</td>\n",
       "      <td>so basically every moment between now and me p...</td>\n",
       "      <td>1</td>\n",
       "    </tr>\n",
       "    <tr>\n",
       "      <th>38</th>\n",
       "      <td>Most of my recent therapy sessions have been m...</td>\n",
       "      <td>EarthBound</td>\n",
       "      <td>most of my recent therapy sessions have been m...</td>\n",
       "      <td>1</td>\n",
       "    </tr>\n",
       "    <tr>\n",
       "      <th>41</th>\n",
       "      <td>03-03 How To Spot The Difference Between Battl...</td>\n",
       "      <td>Overwatch</td>\n",
       "      <td>03 how to spot the difference between battlebo...</td>\n",
       "      <td>1</td>\n",
       "    </tr>\n",
       "    <tr>\n",
       "      <th>42</th>\n",
       "      <td>#minecraft #minecraftpc #minecraftxbox #mcpe #...</td>\n",
       "      <td>Minecraft</td>\n",
       "      <td>xbox ocean den we're superheroes (</td>\n",
       "      <td>1</td>\n",
       "    </tr>\n",
       "    <tr>\n",
       "      <th>44</th>\n",
       "      <td>#minecraft #minecraftpc #minecraftxbox #mcpe #...</td>\n",
       "      <td>Minecraft</td>\n",
       "      <td>most epic bedwars you've ever seen!!!</td>\n",
       "      <td>1</td>\n",
       "    </tr>\n",
       "    <tr>\n",
       "      <th>47</th>\n",
       "      <td>@Diablo Something new needs to happen. Such bo...</td>\n",
       "      <td>Diablo</td>\n",
       "      <td>something new needs to happen. such boring con...</td>\n",
       "      <td>1</td>\n",
       "    </tr>\n",
       "    <tr>\n",
       "      <th>48</th>\n",
       "      <td>RT @_skull_queen_: Super Mario Bros. is mostly...</td>\n",
       "      <td>Mario</td>\n",
       "      <td>super bros. is mostly grass, pipes, fire, clou...</td>\n",
       "      <td>1</td>\n",
       "    </tr>\n",
       "    <tr>\n",
       "      <th>49</th>\n",
       "      <td>RT @Brenzicure: Good day everybody, hope you h...</td>\n",
       "      <td>Zelda</td>\n",
       "      <td>good day everybody, hope you have a good one. ...</td>\n",
       "      <td>1</td>\n",
       "    </tr>\n",
       "    <tr>\n",
       "      <th>51</th>\n",
       "      <td>RT @PureNintendo: Share your 1st (spoiler free...</td>\n",
       "      <td>Zelda</td>\n",
       "      <td>share your (spoiler free) impressions w/us on ...</td>\n",
       "      <td>1</td>\n",
       "    </tr>\n",
       "    <tr>\n",
       "      <th>...</th>\n",
       "      <td>...</td>\n",
       "      <td>...</td>\n",
       "      <td>...</td>\n",
       "      <td>...</td>\n",
       "    </tr>\n",
       "    <tr>\n",
       "      <th>45090</th>\n",
       "      <td>No console game system will EVER top ps4.  Kin...</td>\n",
       "      <td>Kingdom Hearts</td>\n",
       "      <td>no console game system will ever top ps 3 will...</td>\n",
       "      <td>1</td>\n",
       "    </tr>\n",
       "    <tr>\n",
       "      <th>45091</th>\n",
       "      <td>RT @SmithersB0ss: Minecraft House Tutorial: Ea...</td>\n",
       "      <td>Minecraft</td>\n",
       "      <td>house tutorial: easy stone modern house - best...</td>\n",
       "      <td>1</td>\n",
       "    </tr>\n",
       "    <tr>\n",
       "      <th>45092</th>\n",
       "      <td>For some weird reason when i play dark souls/b...</td>\n",
       "      <td>Dark Souls</td>\n",
       "      <td>for some weird reason when i play /bloodborne,...</td>\n",
       "      <td>1</td>\n",
       "    </tr>\n",
       "    <tr>\n",
       "      <th>45094</th>\n",
       "      <td>RT @LetItMelo: Apparently Twitter supports big...</td>\n",
       "      <td>Zelda</td>\n",
       "      <td>apparently twitter supports bigger gifs now! h...</td>\n",
       "      <td>1</td>\n",
       "    </tr>\n",
       "    <tr>\n",
       "      <th>45095</th>\n",
       "      <td>RT @Professorbroman: Click here to enter for y...</td>\n",
       "      <td>Zelda</td>\n",
       "      <td>click here to enter for you chance to win one ...</td>\n",
       "      <td>1</td>\n",
       "    </tr>\n",
       "    <tr>\n",
       "      <th>45096</th>\n",
       "      <td>RT @Dominos_UK: Tonight we Hyrule! 🗡🛡🏹🔑❤️❤️❤️🍕...</td>\n",
       "      <td>Zelda</td>\n",
       "      <td>tonight we hyrule! ️ ️ ️ mmm nosh-talgia-licio...</td>\n",
       "      <td>1</td>\n",
       "    </tr>\n",
       "    <tr>\n",
       "      <th>45101</th>\n",
       "      <td>RT @CORSAIR: It's another #FreeCodeFriday and ...</td>\n",
       "      <td>Resident Evil</td>\n",
       "      <td>it's another and we're giving away 2 copies of...</td>\n",
       "      <td>1</td>\n",
       "    </tr>\n",
       "    <tr>\n",
       "      <th>45102</th>\n",
       "      <td>RT @LetItMelo: Apparently Twitter supports big...</td>\n",
       "      <td>Zelda</td>\n",
       "      <td>apparently twitter supports bigger gifs now! h...</td>\n",
       "      <td>1</td>\n",
       "    </tr>\n",
       "    <tr>\n",
       "      <th>45107</th>\n",
       "      <td>RT @VGDensetsu: The CPS III and its first 2 ga...</td>\n",
       "      <td>Street Fighter</td>\n",
       "      <td>the cps iii and its first 2 games -warzard and...</td>\n",
       "      <td>1</td>\n",
       "    </tr>\n",
       "    <tr>\n",
       "      <th>45113</th>\n",
       "      <td>RT @NASA_Hubble: UGC12591 &amp;amp; its halo conta...</td>\n",
       "      <td>Halo</td>\n",
       "      <td>&amp;amp; its contain several hundred billion time...</td>\n",
       "      <td>1</td>\n",
       "    </tr>\n",
       "    <tr>\n",
       "      <th>45119</th>\n",
       "      <td>@CouRageJD @GFuelEnergy is that beer and wine ...</td>\n",
       "      <td>Pong</td>\n",
       "      <td>is that beer and wine under ur elbow but above...</td>\n",
       "      <td>1</td>\n",
       "    </tr>\n",
       "    <tr>\n",
       "      <th>45120</th>\n",
       "      <td>I liked a @YouTube video from @elderscrollsgui...</td>\n",
       "      <td>Skyrim</td>\n",
       "      <td>i liked a video from special edition 100 alche...</td>\n",
       "      <td>1</td>\n",
       "    </tr>\n",
       "    <tr>\n",
       "      <th>45123</th>\n",
       "      <td>RT @MrMelee94: Early Birthday Stream before to...</td>\n",
       "      <td>Overwatch</td>\n",
       "      <td>early birthday stream before tomorrow live on</td>\n",
       "      <td>1</td>\n",
       "    </tr>\n",
       "    <tr>\n",
       "      <th>45126</th>\n",
       "      <td>Our immersive sonic exhibition, Listen Hear: T...</td>\n",
       "      <td>Sonic</td>\n",
       "      <td>our immersive exhibition, listen hear: the art...</td>\n",
       "      <td>1</td>\n",
       "    </tr>\n",
       "    <tr>\n",
       "      <th>45128</th>\n",
       "      <td>RT @razzadoop: A heartfelt plea for a spoiler-...</td>\n",
       "      <td>Zelda</td>\n",
       "      <td>a heartfelt plea for a spoiler-free .</td>\n",
       "      <td>1</td>\n",
       "    </tr>\n",
       "    <tr>\n",
       "      <th>45132</th>\n",
       "      <td>THATS A SONIC SCREWDRIVER lmao https://t.co/Wl...</td>\n",
       "      <td>Sonic</td>\n",
       "      <td>thats a screwdriver lmao</td>\n",
       "      <td>1</td>\n",
       "    </tr>\n",
       "    <tr>\n",
       "      <th>45134</th>\n",
       "      <td>RT @KingReploid: \"Afghanistan is a big place, ...</td>\n",
       "      <td>Metal Gear</td>\n",
       "      <td>\"afghanistan is a big place, snake.\" - ocelot ...</td>\n",
       "      <td>1</td>\n",
       "    </tr>\n",
       "    <tr>\n",
       "      <th>45135</th>\n",
       "      <td>@mkylem Animal Crossing</td>\n",
       "      <td>Animal Crossing</td>\n",
       "      <td></td>\n",
       "      <td>1</td>\n",
       "    </tr>\n",
       "    <tr>\n",
       "      <th>45136</th>\n",
       "      <td>Got the new Zelda game... https://t.co/NDnGHTHyzb</td>\n",
       "      <td>Zelda</td>\n",
       "      <td>got the new game...</td>\n",
       "      <td>1</td>\n",
       "    </tr>\n",
       "    <tr>\n",
       "      <th>45137</th>\n",
       "      <td>I'll buy a Switch if they make an actual Metro...</td>\n",
       "      <td>Metroid</td>\n",
       "      <td>i'll buy a switch if they make an actual game ...</td>\n",
       "      <td>1</td>\n",
       "    </tr>\n",
       "    <tr>\n",
       "      <th>45138</th>\n",
       "      <td>Zelda is a breath of fresh air. Hooked! Jury i...</td>\n",
       "      <td>Zelda</td>\n",
       "      <td>is a breath of fresh air. hooked! jury is stil...</td>\n",
       "      <td>1</td>\n",
       "    </tr>\n",
       "    <tr>\n",
       "      <th>45139</th>\n",
       "      <td>RT @Gothalion: Enter Here to win one of seven ...</td>\n",
       "      <td>Zelda</td>\n",
       "      <td>enter here to win one of seven +switch bundles...</td>\n",
       "      <td>1</td>\n",
       "    </tr>\n",
       "    <tr>\n",
       "      <th>45140</th>\n",
       "      <td>RT @AlexChew_: A sad story told in 4 tweets by...</td>\n",
       "      <td>Minecraft</td>\n",
       "      <td>a sad story told in 4 tweets by the creator of</td>\n",
       "      <td>1</td>\n",
       "    </tr>\n",
       "    <tr>\n",
       "      <th>45144</th>\n",
       "      <td>RT @KissesGlobal: ♡ Last set of BB KISSES to 2...</td>\n",
       "      <td>Ico</td>\n",
       "      <td>last set of bb kisses to 2366 ns rt if using/s...</td>\n",
       "      <td>1</td>\n",
       "    </tr>\n",
       "    <tr>\n",
       "      <th>45146</th>\n",
       "      <td>RT @DrunkControl: Drunk Control - Sonic Advent...</td>\n",
       "      <td>Sonic</td>\n",
       "      <td>drunk control - adventure - part via</td>\n",
       "      <td>1</td>\n",
       "    </tr>\n",
       "    <tr>\n",
       "      <th>45151</th>\n",
       "      <td>RT @AllieRX: The Legend of Zelda: A Link To Da...</td>\n",
       "      <td>Zelda</td>\n",
       "      <td>the legend of : a link to dat ass</td>\n",
       "      <td>1</td>\n",
       "    </tr>\n",
       "    <tr>\n",
       "      <th>45156</th>\n",
       "      <td>RT @KingReploid: \"Afghanistan is a big place, ...</td>\n",
       "      <td>Metal Gear</td>\n",
       "      <td>\"afghanistan is a big place, snake.\" - ocelot ...</td>\n",
       "      <td>1</td>\n",
       "    </tr>\n",
       "    <tr>\n",
       "      <th>45158</th>\n",
       "      <td>Check out my broadcast from my PlayStation 4! ...</td>\n",
       "      <td>Tom Clancy's</td>\n",
       "      <td>check out my broadcast from my playstation ( t...</td>\n",
       "      <td>1</td>\n",
       "    </tr>\n",
       "    <tr>\n",
       "      <th>45162</th>\n",
       "      <td>How to check time left before decay (affecting...</td>\n",
       "      <td>Overwatch</td>\n",
       "      <td>how to check time left before decay (affecting...</td>\n",
       "      <td>1</td>\n",
       "    </tr>\n",
       "    <tr>\n",
       "      <th>45166</th>\n",
       "      <td>RT @MrGenzoman: Commission image. Tonight play...</td>\n",
       "      <td>Zelda</td>\n",
       "      <td>commission image. tonight playing ! yay! :d</td>\n",
       "      <td>1</td>\n",
       "    </tr>\n",
       "  </tbody>\n",
       "</table>\n",
       "<p>25000 rows × 4 columns</p>\n",
       "</div>"
      ],
      "text/plain": [
       "                                                    text  keyword_matches  \\\n",
       "0      Zelda's super neat but I've experienced more s...            Zelda   \n",
       "1      RT @NintendoAmerica: The adventure begins. #Ni...            Zelda   \n",
       "2      .@Ingeborgburger @Derpfield you two know me so...          Pokemon   \n",
       "6      RT @jacksfilms: Still in shock over IGN's Zeld...            Zelda   \n",
       "7      RT @AngryJoeShow: Just got back home! So you h...            Zelda   \n",
       "8      RT @NintendoAmerica: The adventure begins. #Ni...            Zelda   \n",
       "9      Has #Overwatch Had Its Release Date Leaked? #O...        Overwatch   \n",
       "12     Overwatch Cinematic Teaser: Are You With Us? #...        Overwatch   \n",
       "13     How To Spot The Difference Between Battleborn ...        Overwatch   \n",
       "15     RT @MelSmithJones: I analyze providers, and @S...           Portal   \n",
       "17     @ShittyMario don't talk to me or my shitty mar...            Mario   \n",
       "19     Metal gear Profiles: Morpho and Peqoud https:/...       Metal Gear   \n",
       "20     $525 BUNDLE of 3 Nintendo Switch Gray Console ...            Zelda   \n",
       "22     RT @NinEverything: Zelda: Breath of the Wild –...            Zelda   \n",
       "23     RT @alpharadtv: I'm so glad that the new Zelda...            Zelda   \n",
       "25                       ana lesh doom a7b lnas l'3l6:)?             Doom   \n",
       "26     RT @TheJonesyTweets: Live now! Sick. :(\\n\\nhtt...        Overwatch   \n",
       "28     RT @kristvav: #Overwatch Backstory Explained F...        Overwatch   \n",
       "30     RT @NintendoAmerica: The adventure begins. #Ni...            Zelda   \n",
       "34     RT @vicklty: 03-03 #Overwatch’s Open Beta Won’...        Overwatch   \n",
       "36     New Overwatch PC Beta Dates Announced #Overwat...        Overwatch   \n",
       "37     RT @JonTronShow: So basically every moment bet...            Zelda   \n",
       "38     Most of my recent therapy sessions have been m...       EarthBound   \n",
       "41     03-03 How To Spot The Difference Between Battl...        Overwatch   \n",
       "42     #minecraft #minecraftpc #minecraftxbox #mcpe #...        Minecraft   \n",
       "44     #minecraft #minecraftpc #minecraftxbox #mcpe #...        Minecraft   \n",
       "47     @Diablo Something new needs to happen. Such bo...           Diablo   \n",
       "48     RT @_skull_queen_: Super Mario Bros. is mostly...            Mario   \n",
       "49     RT @Brenzicure: Good day everybody, hope you h...            Zelda   \n",
       "51     RT @PureNintendo: Share your 1st (spoiler free...            Zelda   \n",
       "...                                                  ...              ...   \n",
       "45090  No console game system will EVER top ps4.  Kin...   Kingdom Hearts   \n",
       "45091  RT @SmithersB0ss: Minecraft House Tutorial: Ea...        Minecraft   \n",
       "45092  For some weird reason when i play dark souls/b...       Dark Souls   \n",
       "45094  RT @LetItMelo: Apparently Twitter supports big...            Zelda   \n",
       "45095  RT @Professorbroman: Click here to enter for y...            Zelda   \n",
       "45096  RT @Dominos_UK: Tonight we Hyrule! 🗡🛡🏹🔑❤️❤️❤️🍕...            Zelda   \n",
       "45101  RT @CORSAIR: It's another #FreeCodeFriday and ...    Resident Evil   \n",
       "45102  RT @LetItMelo: Apparently Twitter supports big...            Zelda   \n",
       "45107  RT @VGDensetsu: The CPS III and its first 2 ga...   Street Fighter   \n",
       "45113  RT @NASA_Hubble: UGC12591 &amp; its halo conta...             Halo   \n",
       "45119  @CouRageJD @GFuelEnergy is that beer and wine ...             Pong   \n",
       "45120  I liked a @YouTube video from @elderscrollsgui...           Skyrim   \n",
       "45123  RT @MrMelee94: Early Birthday Stream before to...        Overwatch   \n",
       "45126  Our immersive sonic exhibition, Listen Hear: T...            Sonic   \n",
       "45128  RT @razzadoop: A heartfelt plea for a spoiler-...            Zelda   \n",
       "45132  THATS A SONIC SCREWDRIVER lmao https://t.co/Wl...            Sonic   \n",
       "45134  RT @KingReploid: \"Afghanistan is a big place, ...       Metal Gear   \n",
       "45135                            @mkylem Animal Crossing  Animal Crossing   \n",
       "45136  Got the new Zelda game... https://t.co/NDnGHTHyzb            Zelda   \n",
       "45137  I'll buy a Switch if they make an actual Metro...          Metroid   \n",
       "45138  Zelda is a breath of fresh air. Hooked! Jury i...            Zelda   \n",
       "45139  RT @Gothalion: Enter Here to win one of seven ...            Zelda   \n",
       "45140  RT @AlexChew_: A sad story told in 4 tweets by...        Minecraft   \n",
       "45144  RT @KissesGlobal: ♡ Last set of BB KISSES to 2...              Ico   \n",
       "45146  RT @DrunkControl: Drunk Control - Sonic Advent...            Sonic   \n",
       "45151  RT @AllieRX: The Legend of Zelda: A Link To Da...            Zelda   \n",
       "45156  RT @KingReploid: \"Afghanistan is a big place, ...       Metal Gear   \n",
       "45158  Check out my broadcast from my PlayStation 4! ...     Tom Clancy's   \n",
       "45162  How to check time left before decay (affecting...        Overwatch   \n",
       "45166  RT @MrGenzoman: Commission image. Tonight play...            Zelda   \n",
       "\n",
       "                                            cleaned_text  game_related_tweet  \n",
       "0      's super neat but i've experienced more severe...                   1  \n",
       "1                                  the adventure begins.                   1  \n",
       "2      . you two know me so well you both sent me tot...                   1  \n",
       "6                       still in shock over ign's review                   1  \n",
       "7      just got back home! so you have an idea this i...                   1  \n",
       "8                                  the adventure begins.                   1  \n",
       "9                       has had its release date leaked?                   1  \n",
       "12                    cinematic teaser: are you with us?                   1  \n",
       "13     how to spot the difference between battleborn and                   1  \n",
       "15     i analyze providers, and is the most promising...                   1  \n",
       "17          don't talk to me or my shitty son ever again                   1  \n",
       "19                           profiles: morpho and peqoud                   1  \n",
       "20     bundle of 3 nintendo switch gray console and l...                   1  \n",
       "22     : breath of the wild switch docked vs. undocke...                   1  \n",
       "23     i'm so glad that the new game comes out soon. ...                   1  \n",
       "25                                    ana lesh a lnas l'                   1  \n",
       "26                                    live now! sick. :(                   1  \n",
       "28     backstory explained further in new video, wins...                   1  \n",
       "30                                 the adventure begins.                   1  \n",
       "34                       03 s open beta won t feature...                   1  \n",
       "36                           new pc beta dates announced                   1  \n",
       "37     so basically every moment between now and me p...                   1  \n",
       "38     most of my recent therapy sessions have been m...                   1  \n",
       "41     03 how to spot the difference between battlebo...                   1  \n",
       "42                    xbox ocean den we're superheroes (                   1  \n",
       "44                 most epic bedwars you've ever seen!!!                   1  \n",
       "47     something new needs to happen. such boring con...                   1  \n",
       "48     super bros. is mostly grass, pipes, fire, clou...                   1  \n",
       "49     good day everybody, hope you have a good one. ...                   1  \n",
       "51     share your (spoiler free) impressions w/us on ...                   1  \n",
       "...                                                  ...                 ...  \n",
       "45090  no console game system will ever top ps 3 will...                   1  \n",
       "45091  house tutorial: easy stone modern house - best...                   1  \n",
       "45092  for some weird reason when i play /bloodborne,...                   1  \n",
       "45094  apparently twitter supports bigger gifs now! h...                   1  \n",
       "45095  click here to enter for you chance to win one ...                   1  \n",
       "45096  tonight we hyrule! ️ ️ ️ mmm nosh-talgia-licio...                   1  \n",
       "45101  it's another and we're giving away 2 copies of...                   1  \n",
       "45102  apparently twitter supports bigger gifs now! h...                   1  \n",
       "45107  the cps iii and its first 2 games -warzard and...                   1  \n",
       "45113  &amp; its contain several hundred billion time...                   1  \n",
       "45119  is that beer and wine under ur elbow but above...                   1  \n",
       "45120  i liked a video from special edition 100 alche...                   1  \n",
       "45123      early birthday stream before tomorrow live on                   1  \n",
       "45126  our immersive exhibition, listen hear: the art...                   1  \n",
       "45128              a heartfelt plea for a spoiler-free .                   1  \n",
       "45132                           thats a screwdriver lmao                   1  \n",
       "45134  \"afghanistan is a big place, snake.\" - ocelot ...                   1  \n",
       "45135                                                                      1  \n",
       "45136                                got the new game...                   1  \n",
       "45137  i'll buy a switch if they make an actual game ...                   1  \n",
       "45138  is a breath of fresh air. hooked! jury is stil...                   1  \n",
       "45139  enter here to win one of seven +switch bundles...                   1  \n",
       "45140     a sad story told in 4 tweets by the creator of                   1  \n",
       "45144  last set of bb kisses to 2366 ns rt if using/s...                   1  \n",
       "45146               drunk control - adventure - part via                   1  \n",
       "45151                  the legend of : a link to dat ass                   1  \n",
       "45156  \"afghanistan is a big place, snake.\" - ocelot ...                   1  \n",
       "45158  check out my broadcast from my playstation ( t...                   1  \n",
       "45162  how to check time left before decay (affecting...                   1  \n",
       "45166        commission image. tonight playing ! yay! :d                   1  \n",
       "\n",
       "[25000 rows x 4 columns]"
      ]
     },
     "execution_count": 189,
     "metadata": {},
     "output_type": "execute_result"
    }
   ],
   "source": [
    "video_game_tweets_training"
   ]
  },
  {
   "cell_type": "code",
   "execution_count": 190,
   "metadata": {
    "collapsed": false
   },
   "outputs": [],
   "source": [
    "video_game_tweets_grouped =\\\n",
    "    video_game_tweets_training[[\"keyword_matches\", \"cleaned_text\"]].groupby(\"keyword_matches\").agg(\"sum\")"
   ]
  },
  {
   "cell_type": "code",
   "execution_count": 191,
   "metadata": {
    "collapsed": false
   },
   "outputs": [
    {
     "data": {
      "text/plain": [
       "keyword_matches\n",
       "Angry Birds               blast level 284blast level 285blast level 286a...\n",
       "Animal Crossing           what iswhen i play , i use pinterest to find s...\n",
       "Assassin's Creed          if you missed it won the vote. brings back mem...\n",
       "BioShock                  how quickly can you complete a hacking puzzle?...\n",
       "Call of Duty              infinite warfare attempting to get the wonder ...\n",
       "Candy Crush               saga level viai love , but i love csgospeed ev...\n",
       "Castlevania               i liked a video from sotn - the tragic prince ...\n",
       "Chrono Trigger            - ️- ️- ️- ️- ️- ️- ️- ️- ️- ️- ️- ️- ️- ️- ️-...\n",
       "Counter-Strike            no. global offensive!)i love seeing the commun...\n",
       "Crysis                    remember the time when v. 20 went thorough a o...\n",
       "Dark Souls                omfg give me a lightsaber with combat and i ca...\n",
       "Deus Ex                   \"a well-designed level that forces you out of ...\n",
       "Diablo                    something new needs to happen. such boring con...\n",
       "Donkey Kong               tonight it's on like !! why so serious ? we ki...\n",
       "Doodle Jump                    i just scored 670 on ! for ios: for android:\n",
       "Doom                      ana lesh a lnas l'[geeks of ] book review: pup...\n",
       "Double Dragon             check out our let's play of for the original n...\n",
       "Duck Hunt                 customcustomcustomcustomcustomcustomcustomcust...\n",
       "Dynasty Warriors          me (a /anime fan) seeing one piece pirate warr...\n",
       "EarthBound                most of my recent therapy sessions have been m...\n",
       "Fallout                   brexit's nuclear : when the uk voted to leave ...\n",
       "Final Fantasy             9 again=)how do we not have a game with rihann...\n",
       "Fire Emblem               new illustration of alm by hidari for ciphersu...\n",
       "Fruit Ninja               memories from biscolata pia adi just sliced 4 ...\n",
       "Galaga                    exploring a partner-ship ? join methe best par...\n",
       "Garry's Mod               kill the breen *professional kill* !!!!!: viac...\n",
       "God of War                i leave you the soundtrack of to enliven the w...\n",
       "Grand Theft Auto          straight up movecheck out my broadcast from my...\n",
       "Half-Life                 i liked a video from 3 confirmed - new seanann...\n",
       "Halo                      watching the qualifier in las vegas all weeken...\n",
       "                                                ...                        \n",
       "Pong                      \"got drunk on new year's eve. my friends grand...\n",
       "Portal                    i analyze providers, and is the most promising...\n",
       "Prince of Persia          of persia nude skin softcore porn scenes: the ...\n",
       "Red Dead                  revolver (microsoft xbox, vintage classic rock...\n",
       "Resident Evil             i liked a video 7 - what a cop - part 7 - game...\n",
       "Shadow of the Colossus    im not afraid of the fight, it's the fact i'd ...\n",
       "Shenmue                   where??you are a legend i've got to ask have y...\n",
       "Silent Hill               hey wildcatz! guys part 3 of is up! whoah. did...\n",
       "Skyrim                    &gt;start minute card riding scene minute dung...\n",
       "Sonic                     gengas created for cd (opening + ending), cour...\n",
       "SoulCalibur               taki porn pics retarded girls porn picsenjoyin...\n",
       "Splatoon                  ya, its silly friend codes are still a thing. ...\n",
       "Star Fox                  ...always a classic!how cool is that love !and...\n",
       "Star Wars: Battlefront    ii - playstation 2 game complete-- renegade sq...\n",
       "StarCraft                 ai bots playing with commentary: 00 cet every ...\n",
       "Street Fighter            fam your whole team drinking moscow mules, usi...\n",
       "Super Smash               brosbros. - nintendo is now $ 99 as of 03bros....\n",
       "Tekken                    video games news &amp; reviews - gamerz: 7 rel...\n",
       "Terraria                  i liked a video from 3 skyblock challenge! | c...\n",
       "Tetris                    are those blocky shapes supposed to be arabic ...\n",
       "The Elder Scrolls         check out my broadcast from my playstation ( o...\n",
       "The Sims                  4 - forgotten factory - design viawhen i made ...\n",
       "Tom Clancy's              the divisionchronicles [ghost recon+splinter c...\n",
       "Tomb Raider               baethe moment t rex started at the live and ev...\n",
       "Uncharted                 4 y until dawnnathan drake 3 sixth scale figur...\n",
       "Wii Fit                   wii console gaming system with plus board &amp...\n",
       "Wii Sports                is it me, or should there be a petition to get...\n",
       "World of Warcraft         paladin main! :)automated leveling guidesplayi...\n",
       "Xenogears                 reupload of part nineteen: the puppet masters ...\n",
       "Zelda                     's super neat but i've experienced more severe...\n",
       "Name: cleaned_text, dtype: object"
      ]
     },
     "execution_count": 191,
     "metadata": {},
     "output_type": "execute_result"
    }
   ],
   "source": [
    "video_game_tweets_grouped[\"cleaned_text\"]"
   ]
  },
  {
   "cell_type": "code",
   "execution_count": null,
   "metadata": {
    "collapsed": true
   },
   "outputs": [],
   "source": []
  },
  {
   "cell_type": "code",
   "execution_count": null,
   "metadata": {
    "collapsed": true
   },
   "outputs": [],
   "source": []
  },
  {
   "cell_type": "code",
   "execution_count": null,
   "metadata": {
    "collapsed": true
   },
   "outputs": [],
   "source": []
  },
  {
   "cell_type": "code",
   "execution_count": 153,
   "metadata": {
    "collapsed": true
   },
   "outputs": [],
   "source": [
    "tsne = TSNE(n_components=num_clusters)"
   ]
  },
  {
   "cell_type": "code",
   "execution_count": 154,
   "metadata": {
    "collapsed": false
   },
   "outputs": [
    {
     "data": {
      "text/plain": [
       "TSNE(angle=0.5, early_exaggeration=4.0, init='random', learning_rate=1000.0,\n",
       "   method='barnes_hut', metric='euclidean', min_grad_norm=1e-07,\n",
       "   n_components=10, n_iter=1000, n_iter_without_progress=30,\n",
       "   perplexity=30.0, random_state=None, verbose=0)"
      ]
     },
     "execution_count": 154,
     "metadata": {},
     "output_type": "execute_result"
    }
   ],
   "source": [
    "tsne.fit(keyword_corpus_lsa)"
   ]
  },
  {
   "cell_type": "code",
   "execution_count": 155,
   "metadata": {
    "collapsed": true
   },
   "outputs": [],
   "source": [
    "tweets_tsne = tsne.fit_transform(keyword_corpus_lsa)"
   ]
  },
  {
   "cell_type": "code",
   "execution_count": null,
   "metadata": {
    "collapsed": true
   },
   "outputs": [],
   "source": []
  }
 ],
 "metadata": {
  "kernelspec": {
   "display_name": "Python 2",
   "language": "python",
   "name": "python2"
  },
  "language_info": {
   "codemirror_mode": {
    "name": "ipython",
    "version": 2
   },
   "file_extension": ".py",
   "mimetype": "text/x-python",
   "name": "python",
   "nbconvert_exporter": "python",
   "pygments_lexer": "ipython2",
   "version": "2.7.12"
  }
 },
 "nbformat": 4,
 "nbformat_minor": 2
}
