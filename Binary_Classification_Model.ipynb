{
 "cells": [
  {
   "cell_type": "markdown",
   "metadata": {},
   "source": [
    "## Load Data From Pickles"
   ]
  },
  {
   "cell_type": "code",
   "execution_count": 2,
   "metadata": {
    "collapsed": true
   },
   "outputs": [],
   "source": [
    "import numpy as np\n",
    "import pandas as pd\n",
    "import seaborn as sns\n",
    "import json\n",
    "import re"
   ]
  },
  {
   "cell_type": "code",
   "execution_count": 3,
   "metadata": {
    "collapsed": false
   },
   "outputs": [],
   "source": [
    "import matplotlib.pyplot as plt\n",
    "%matplotlib inline"
   ]
  },
  {
   "cell_type": "code",
   "execution_count": 16,
   "metadata": {
    "collapsed": true
   },
   "outputs": [],
   "source": [
    "video_game_tweets_training = pd.read_pickle(\"saved_pickles/video_game_tweets_training.pkl\").head(15000)\n",
    "unfiltered_tweets_training = pd.read_pickle(\"saved_pickles/unfiltered_tweets_training.pkl\").head(15000)\n",
    "\n",
    "video_game_tweets_validation = pd.read_pickle(\"saved_pickles/video_game_tweets_validation.pkl\").tail(15000)\n",
    "unfiltered_tweets_validation = pd.read_pickle(\"saved_pickles/unfiltered_tweets_validation.pkl\").tail(15000)"
   ]
  },
  {
   "cell_type": "code",
   "execution_count": 18,
   "metadata": {
    "collapsed": true
   },
   "outputs": [],
   "source": [
    "all_tweets_training = pd.concat([video_game_tweets_training, unfiltered_tweets_training])\n",
    "all_tweets_validation = pd.concat([video_game_tweets_validation, unfiltered_tweets_validation])"
   ]
  },
  {
   "cell_type": "code",
   "execution_count": 17,
   "metadata": {
    "collapsed": false
   },
   "outputs": [],
   "source": [
    "#all_tweets_training = pd.read_pickle(\"saved_pickles/all_tweets_training.pkl\")\n",
    "#all_tweets_validation = pd.read_pickle(\"saved_pickles/all_tweets_validation.pkl\")"
   ]
  },
  {
   "cell_type": "markdown",
   "metadata": {},
   "source": [
    "# Perform LSA on Training Set and Transform Testing Set"
   ]
  },
  {
   "cell_type": "code",
   "execution_count": 19,
   "metadata": {
    "collapsed": false
   },
   "outputs": [],
   "source": [
    "from lib.lsa import lsa_pipeline\n",
    "from lib.lsa import run_lsa"
   ]
  },
  {
   "cell_type": "code",
   "execution_count": 27,
   "metadata": {
    "collapsed": false
   },
   "outputs": [],
   "source": [
    "all_tweets_training_lsa, vectorizer, svd = lsa_pipeline(all_tweets_training, min_df= 0.001,\n",
    "                                                        max_df=0.5, num_components=200, stop_words=None)"
   ]
  },
  {
   "cell_type": "code",
   "execution_count": 28,
   "metadata": {
    "collapsed": false
   },
   "outputs": [
    {
     "data": {
      "text/plain": [
       "<matplotlib.collections.PathCollection at 0x7fc69d0ba2d0>"
      ]
     },
     "execution_count": 28,
     "metadata": {},
     "output_type": "execute_result"
    },
    {
     "data": {
      "image/png": "[encoded data removed]",
      "text/plain": [
       "<matplotlib.figure.Figure at 0x7fc69d1758d0>"
      ]
     },
     "metadata": {},
     "output_type": "display_data"
    }
   ],
   "source": [
    "exp_var = svd.explained_variance_ratio_\n",
    "\n",
    "plt.scatter(x=range(len(exp_var)), y=[sum(exp_var[:i+1]) for i in range(len(exp_var))])"
   ]
  },
  {
   "cell_type": "code",
   "execution_count": 32,
   "metadata": {
    "collapsed": false
   },
   "outputs": [],
   "source": [
    "all_tweets_validation_lsa = run_lsa(all_tweets_validation, vectorizer, svd)"
   ]
  },
  {
   "cell_type": "code",
   "execution_count": 33,
   "metadata": {
    "collapsed": false
   },
   "outputs": [
    {
     "data": {
      "text/plain": [
       "['saved_pickles/all_tweets_validation_lsa.pkl']"
      ]
     },
     "execution_count": 33,
     "metadata": {},
     "output_type": "execute_result"
    }
   ],
   "source": [
    "from sklearn.externals import joblib\n",
    "\n",
    "joblib.dump(vectorizer, \"saved_pickles/lsa_vectorizer.pkl\")\n",
    "joblib.dump(svd, \"saved_pickles/lsa_svd.pkl\")\n",
    "joblib.dump(all_tweets_training_lsa, \"saved_pickles/all_tweets_training_lsa.pkl\")\n",
    "joblib.dump(all_tweets_validation_lsa, \"saved_pickles/all_tweets_validation_lsa.pkl\")"
   ]
  },
  {
   "cell_type": "markdown",
   "metadata": {},
   "source": [
    "# Perform Binary Classification on Video Games vs. Unrelated Tweets"
   ]
  },
  {
   "cell_type": "code",
   "execution_count": 35,
   "metadata": {
    "collapsed": false
   },
   "outputs": [],
   "source": [
    "from lib.classification import default_model_set\n",
    "from lib.classification import grid_search_model"
   ]
  },
  {
   "cell_type": "code",
   "execution_count": 36,
   "metadata": {
    "collapsed": true
   },
   "outputs": [],
   "source": [
    "model_set = default_model_set()"
   ]
  },
  {
   "cell_type": "code",
   "execution_count": 37,
   "metadata": {
    "collapsed": false
   },
   "outputs": [],
   "source": [
    "X = all_tweets_training_lsa\n",
    "y = all_tweets_training[\"game_related_tweet\"]"
   ]
  },
  {
   "cell_type": "code",
   "execution_count": 38,
   "metadata": {
    "collapsed": false
   },
   "outputs": [
    {
     "name": "stdout",
     "output_type": "stream",
     "text": [
      "K-Nearest Neighbors\n",
      "{'Standard Scaler': StandardScaler(copy=True, with_mean=True, with_std=True), 'Name': 'K-Nearest Neighbors', 'Best_Estimator': KNeighborsClassifier(algorithm='auto', leaf_size=30, metric='minkowski',\n",
      "           metric_params=None, n_jobs=1, n_neighbors=5, p=2,\n",
      "           weights='distance'), 'Score': 0.78333333333333333, 'Grid': GridSearchCV(cv=5, error_score='raise',\n",
      "       estimator=KNeighborsClassifier(algorithm='auto', leaf_size=30, metric='minkowski',\n",
      "           metric_params=None, n_jobs=1, n_neighbors=5, p=2,\n",
      "           weights='distance'),\n",
      "       fit_params={}, iid=True, n_jobs=1, param_grid={},\n",
      "       pre_dispatch='2*n_jobs', refit=True, return_train_score=True,\n",
      "       scoring='accuracy', verbose=0), 'Test Score': 0.7924444444444444}\n",
      "Logistic Regression\n",
      "{'Standard Scaler': StandardScaler(copy=True, with_mean=True, with_std=True), 'Name': 'Logistic Regression', 'Best_Estimator': LogisticRegression(C=1.0, class_weight=None, dual=False, fit_intercept=True,\n",
      "          intercept_scaling=1, max_iter=100, multi_class='ovr', n_jobs=1,\n",
      "          penalty='l2', random_state=None, solver='liblinear', tol=0.0001,\n",
      "          verbose=0, warm_start=False), 'Score': 0.77419047619047621, 'Grid': GridSearchCV(cv=5, error_score='raise',\n",
      "       estimator=LogisticRegression(C=1.0, class_weight=None, dual=False, fit_intercept=True,\n",
      "          intercept_scaling=1, max_iter=100, multi_class='ovr', n_jobs=1,\n",
      "          penalty='l2', random_state=None, solver='liblinear', tol=0.0001,\n",
      "          verbose=0, warm_start=False),\n",
      "       fit_params={}, iid=True, n_jobs=1, param_grid={},\n",
      "       pre_dispatch='2*n_jobs', refit=True, return_train_score=True,\n",
      "       scoring='accuracy', verbose=0), 'Test Score': 0.7814444444444445}\n",
      "SVC\n",
      "{'Standard Scaler': StandardScaler(copy=True, with_mean=True, with_std=True), 'Name': 'SVC', 'Best_Estimator': SVC(C=1.0, cache_size=200, class_weight=None, coef0=0.0,\n",
      "  decision_function_shape=None, degree=3, gamma='auto', kernel='rbf',\n",
      "  max_iter=-1, probability=False, random_state=None, shrinking=True,\n",
      "  tol=0.001, verbose=False), 'Score': 0.82261904761904758, 'Grid': GridSearchCV(cv=5, error_score='raise',\n",
      "       estimator=SVC(C=1.0, cache_size=200, class_weight=None, coef0=0.0,\n",
      "  decision_function_shape=None, degree=3, gamma='auto', kernel='rbf',\n",
      "  max_iter=-1, probability=False, random_state=None, shrinking=True,\n",
      "  tol=0.001, verbose=False),\n",
      "       fit_params={}, iid=True, n_jobs=1, param_grid={},\n",
      "       pre_dispatch='2*n_jobs', refit=True, return_train_score=True,\n",
      "       scoring='accuracy', verbose=0), 'Test Score': 0.8328888888888889}\n",
      "Decision Tree\n",
      "{'Standard Scaler': StandardScaler(copy=True, with_mean=True, with_std=True), 'Name': 'Decision Tree', 'Best_Estimator': DecisionTreeClassifier(class_weight=None, criterion='gini', max_depth=None,\n",
      "            max_features=None, max_leaf_nodes=None,\n",
      "            min_impurity_split=1e-07, min_samples_leaf=1,\n",
      "            min_samples_split=2, min_weight_fraction_leaf=0.0,\n",
      "            presort=False, random_state=None, splitter='best'), 'Score': 0.74452380952380948, 'Grid': GridSearchCV(cv=5, error_score='raise',\n",
      "       estimator=DecisionTreeClassifier(class_weight=None, criterion='gini', max_depth=None,\n",
      "            max_features=None, max_leaf_nodes=None,\n",
      "            min_impurity_split=1e-07, min_samples_leaf=1,\n",
      "            min_samples_split=2, min_weight_fraction_leaf=0.0,\n",
      "            presort=False, random_state=None, splitter='best'),\n",
      "       fit_params={}, iid=True, n_jobs=1, param_grid={},\n",
      "       pre_dispatch='2*n_jobs', refit=True, return_train_score=True,\n",
      "       scoring='accuracy', verbose=0), 'Test Score': 0.75177777777777777}\n",
      "Random Forest\n",
      "{'Standard Scaler': StandardScaler(copy=True, with_mean=True, with_std=True), 'Name': 'Random Forest', 'Best_Estimator': RandomForestClassifier(bootstrap=True, class_weight=None, criterion='gini',\n",
      "            max_depth=None, max_features='auto', max_leaf_nodes=None,\n",
      "            min_impurity_split=1e-07, min_samples_leaf=1,\n",
      "            min_samples_split=2, min_weight_fraction_leaf=0.0,\n",
      "            n_estimators=10, n_jobs=1, oob_score=False, random_state=None,\n",
      "            verbose=0, warm_start=False), 'Score': 0.78304761904761899, 'Grid': GridSearchCV(cv=5, error_score='raise',\n",
      "       estimator=RandomForestClassifier(bootstrap=True, class_weight=None, criterion='gini',\n",
      "            max_depth=None, max_features='auto', max_leaf_nodes=None,\n",
      "            min_impurity_split=1e-07, min_samples_leaf=1,\n",
      "            min_samples_split=2, min_weight_fraction_leaf=0.0,\n",
      "            n_estimators=10, n_jobs=1, oob_score=False, random_state=None,\n",
      "            verbose=0, warm_start=False),\n",
      "       fit_params={}, iid=True, n_jobs=1, param_grid={},\n",
      "       pre_dispatch='2*n_jobs', refit=True, return_train_score=True,\n",
      "       scoring='accuracy', verbose=0), 'Test Score': 0.7927777777777778}\n",
      "Extra Trees\n",
      "{'Standard Scaler': StandardScaler(copy=True, with_mean=True, with_std=True), 'Name': 'Extra Trees', 'Best_Estimator': ExtraTreesClassifier(bootstrap=False, class_weight=None, criterion='gini',\n",
      "           max_depth=None, max_features='auto', max_leaf_nodes=None,\n",
      "           min_impurity_split=1e-07, min_samples_leaf=1,\n",
      "           min_samples_split=2, min_weight_fraction_leaf=0.0,\n",
      "           n_estimators=10, n_jobs=1, oob_score=False, random_state=None,\n",
      "           verbose=0, warm_start=False), 'Score': 0.79057142857142859, 'Grid': GridSearchCV(cv=5, error_score='raise',\n",
      "       estimator=ExtraTreesClassifier(bootstrap=False, class_weight=None, criterion='gini',\n",
      "           max_depth=None, max_features='auto', max_leaf_nodes=None,\n",
      "           min_impurity_split=1e-07, min_samples_leaf=1,\n",
      "           min_samples_split=2, min_weight_fraction_leaf=0.0,\n",
      "           n_estimators=10, n_jobs=1, oob_score=False, random_state=None,\n",
      "           verbose=0, warm_start=False),\n",
      "       fit_params={}, iid=True, n_jobs=1, param_grid={},\n",
      "       pre_dispatch='2*n_jobs', refit=True, return_train_score=True,\n",
      "       scoring='accuracy', verbose=0), 'Test Score': 0.79400000000000004}\n"
     ]
    }
   ],
   "source": [
    "model_results = grid_search_model(model_set, X, y)"
   ]
  },
  {
   "cell_type": "code",
   "execution_count": 39,
   "metadata": {
    "collapsed": true
   },
   "outputs": [],
   "source": [
    "model_results.to_pickle(\"saved_pickles/simple_model_grid_binary_video_game_classification_with_stop_words.pkl\")"
   ]
  },
  {
   "cell_type": "code",
   "execution_count": 40,
   "metadata": {
    "collapsed": false
   },
   "outputs": [],
   "source": [
    "#model_results.to_pickle(\"saved_pickles/simple_model_grid_binary_video_game_classification.pkl\")"
   ]
  },
  {
   "cell_type": "code",
   "execution_count": 41,
   "metadata": {
    "collapsed": false
   },
   "outputs": [
    {
     "data": {
      "text/html": [
       "<div>\n",
       "<table border=\"1\" class=\"dataframe\">\n",
       "  <thead>\n",
       "    <tr style=\"text-align: right;\">\n",
       "      <th></th>\n",
       "      <th>Name</th>\n",
       "      <th>Score</th>\n",
       "      <th>Test Score</th>\n",
       "    </tr>\n",
       "  </thead>\n",
       "  <tbody>\n",
       "    <tr>\n",
       "      <th>0</th>\n",
       "      <td>K-Nearest Neighbors</td>\n",
       "      <td>0.783333</td>\n",
       "      <td>0.792444</td>\n",
       "    </tr>\n",
       "    <tr>\n",
       "      <th>1</th>\n",
       "      <td>Logistic Regression</td>\n",
       "      <td>0.774190</td>\n",
       "      <td>0.781444</td>\n",
       "    </tr>\n",
       "    <tr>\n",
       "      <th>2</th>\n",
       "      <td>SVC</td>\n",
       "      <td>0.822619</td>\n",
       "      <td>0.832889</td>\n",
       "    </tr>\n",
       "    <tr>\n",
       "      <th>3</th>\n",
       "      <td>Decision Tree</td>\n",
       "      <td>0.744524</td>\n",
       "      <td>0.751778</td>\n",
       "    </tr>\n",
       "    <tr>\n",
       "      <th>4</th>\n",
       "      <td>Random Forest</td>\n",
       "      <td>0.783048</td>\n",
       "      <td>0.792778</td>\n",
       "    </tr>\n",
       "    <tr>\n",
       "      <th>5</th>\n",
       "      <td>Extra Trees</td>\n",
       "      <td>0.790571</td>\n",
       "      <td>0.794000</td>\n",
       "    </tr>\n",
       "  </tbody>\n",
       "</table>\n",
       "</div>"
      ],
      "text/plain": [
       "                  Name     Score  Test Score\n",
       "0  K-Nearest Neighbors  0.783333    0.792444\n",
       "1  Logistic Regression  0.774190    0.781444\n",
       "2                  SVC  0.822619    0.832889\n",
       "3        Decision Tree  0.744524    0.751778\n",
       "4        Random Forest  0.783048    0.792778\n",
       "5          Extra Trees  0.790571    0.794000"
      ]
     },
     "execution_count": 41,
     "metadata": {},
     "output_type": "execute_result"
    }
   ],
   "source": [
    "#model_results = pd.read_pickle(\"saved_pickles/simple_model_grid_binary_video_game_classification.pkl\")\n",
    "model_results[[\"Name\",\"Score\",\"Test Score\"]]"
   ]
  },
  {
   "cell_type": "code",
   "execution_count": 42,
   "metadata": {
    "collapsed": false
   },
   "outputs": [],
   "source": [
    "from sklearn.ensemble import RandomForestClassifier\n",
    "\n",
    "rf = RandomForestClassifier()\n",
    "rf_params = {'criterion':['gini','entropy'], 'n_estimators':[2,5,10,20],\n",
    "             'max_features':[None, 'auto', 'sqrt','log2']}\n",
    "\n",
    "random_forest_grid = [[\"Random Forest\", rf, rf_params]]"
   ]
  },
  {
   "cell_type": "code",
   "execution_count": 43,
   "metadata": {
    "collapsed": false
   },
   "outputs": [
    {
     "name": "stdout",
     "output_type": "stream",
     "text": [
      "Random Forest\n",
      "{'Standard Scaler': StandardScaler(copy=True, with_mean=True, with_std=True), 'Name': 'Random Forest', 'Best_Estimator': RandomForestClassifier(bootstrap=True, class_weight=None, criterion='entropy',\n",
      "            max_depth=None, max_features=None, max_leaf_nodes=None,\n",
      "            min_impurity_split=1e-07, min_samples_leaf=1,\n",
      "            min_samples_split=2, min_weight_fraction_leaf=0.0,\n",
      "            n_estimators=20, n_jobs=1, oob_score=False, random_state=None,\n",
      "            verbose=0, warm_start=False), 'Score': 0.8059047619047619, 'Grid': GridSearchCV(cv=5, error_score='raise',\n",
      "       estimator=RandomForestClassifier(bootstrap=True, class_weight=None, criterion='gini',\n",
      "            max_depth=None, max_features='auto', max_leaf_nodes=None,\n",
      "            min_impurity_split=1e-07, min_samples_leaf=1,\n",
      "            min_samples_split=2, min_weight_fraction_leaf=0.0,\n",
      "            n_estimators=10, n_jobs=1, oob_score=False, random_state=None,\n",
      "            verbose=0, warm_start=False),\n",
      "       fit_params={}, iid=True, n_jobs=1,\n",
      "       param_grid={'n_estimators': [2, 5, 10, 20], 'max_features': [None, 'auto', 'sqrt', 'log2'], 'criterion': ['gini', 'entropy']},\n",
      "       pre_dispatch='2*n_jobs', refit=True, return_train_score=True,\n",
      "       scoring='accuracy', verbose=0), 'Test Score': 0.81299999999999994}\n"
     ]
    }
   ],
   "source": [
    "random_forest_results = grid_search_model(random_forest_grid, X, y)"
   ]
  },
  {
   "cell_type": "code",
   "execution_count": 44,
   "metadata": {
    "collapsed": true
   },
   "outputs": [],
   "source": [
    "#random_forest_results.to_pickle(\"saved_pickles/random_forest_grid_model.pkl\")\n",
    "random_forest_results.to_pickle(\"saved_pickles/random_forest_grid_model_with_stop_words.pkl\")"
   ]
  },
  {
   "cell_type": "code",
   "execution_count": 45,
   "metadata": {
    "collapsed": false
   },
   "outputs": [
    {
     "data": {
      "text/html": [
       "<div>\n",
       "<table border=\"1\" class=\"dataframe\">\n",
       "  <thead>\n",
       "    <tr style=\"text-align: right;\">\n",
       "      <th></th>\n",
       "      <th>Best_Estimator</th>\n",
       "      <th>Grid</th>\n",
       "      <th>Name</th>\n",
       "      <th>Score</th>\n",
       "      <th>Standard Scaler</th>\n",
       "      <th>Test Score</th>\n",
       "    </tr>\n",
       "  </thead>\n",
       "  <tbody>\n",
       "    <tr>\n",
       "      <th>0</th>\n",
       "      <td>(DecisionTreeClassifier(class_weight=None, cri...</td>\n",
       "      <td>GridSearchCV(cv=5, error_score='raise',\\n     ...</td>\n",
       "      <td>Random Forest</td>\n",
       "      <td>0.805905</td>\n",
       "      <td>StandardScaler(copy=True, with_mean=True, with...</td>\n",
       "      <td>0.813</td>\n",
       "    </tr>\n",
       "  </tbody>\n",
       "</table>\n",
       "</div>"
      ],
      "text/plain": [
       "                                      Best_Estimator  \\\n",
       "0  (DecisionTreeClassifier(class_weight=None, cri...   \n",
       "\n",
       "                                                Grid           Name     Score  \\\n",
       "0  GridSearchCV(cv=5, error_score='raise',\\n     ...  Random Forest  0.805905   \n",
       "\n",
       "                                     Standard Scaler  Test Score  \n",
       "0  StandardScaler(copy=True, with_mean=True, with...       0.813  "
      ]
     },
     "execution_count": 45,
     "metadata": {},
     "output_type": "execute_result"
    }
   ],
   "source": [
    "#random_forest_results = pd.read_pickle(\"saved_pickles/random_forest_grid_model.pkl\")\n",
    "random_forest_results"
   ]
  },
  {
   "cell_type": "code",
   "execution_count": 46,
   "metadata": {
    "collapsed": false
   },
   "outputs": [],
   "source": [
    "best_model = model_results[\"Best_Estimator\"].loc[2]\n",
    "scaler = model_results[\"Standard Scaler\"].loc[2]"
   ]
  },
  {
   "cell_type": "code",
   "execution_count": 47,
   "metadata": {
    "collapsed": false
   },
   "outputs": [],
   "source": [
    "validation_true = all_tweets_validation[\"game_related_tweet\"]\n",
    "validation_pred = best_model.predict(scaler.transform(all_tweets_validation_lsa))"
   ]
  },
  {
   "cell_type": "code",
   "execution_count": 48,
   "metadata": {
    "collapsed": true
   },
   "outputs": [],
   "source": [
    "from sklearn.metrics import confusion_matrix\n",
    "from sklearn.metrics import classification_report"
   ]
  },
  {
   "cell_type": "code",
   "execution_count": 49,
   "metadata": {
    "collapsed": true
   },
   "outputs": [],
   "source": [
    "from sklearn.metrics import accuracy_score"
   ]
  },
  {
   "cell_type": "code",
   "execution_count": 50,
   "metadata": {
    "collapsed": false
   },
   "outputs": [],
   "source": [
    "test = pd.DataFrame(validation_true)\n",
    "test.index = range(validation_true.shape[0])"
   ]
  },
  {
   "cell_type": "code",
   "execution_count": 51,
   "metadata": {
    "collapsed": false
   },
   "outputs": [
    {
     "data": {
      "text/plain": [
       "0.76513333333333333"
      ]
     },
     "execution_count": 51,
     "metadata": {},
     "output_type": "execute_result"
    }
   ],
   "source": [
    "accuracy_score(y_true = validation_true, y_pred = validation_pred)"
   ]
  },
  {
   "cell_type": "code",
   "execution_count": 52,
   "metadata": {
    "collapsed": false
   },
   "outputs": [
    {
     "name": "stdout",
     "output_type": "stream",
     "text": [
      "             precision    recall  f1-score   support\n",
      "\n",
      "          0       0.70      0.93      0.80     15000\n",
      "          1       0.90      0.60      0.72     15000\n",
      "\n",
      "avg / total       0.80      0.77      0.76     30000\n",
      "\n"
     ]
    }
   ],
   "source": [
    "print classification_report(y_true = validation_true, y_pred = validation_pred)"
   ]
  },
  {
   "cell_type": "code",
   "execution_count": 53,
   "metadata": {
    "collapsed": false
   },
   "outputs": [],
   "source": [
    "cm = confusion_matrix(y_true = validation_true, y_pred = validation_pred)"
   ]
  },
  {
   "cell_type": "code",
   "execution_count": 54,
   "metadata": {
    "collapsed": false
   },
   "outputs": [
    {
     "data": {
      "text/plain": [
       "<matplotlib.axes._subplots.AxesSubplot at 0x7fc69651b9d0>"
      ]
     },
     "execution_count": 54,
     "metadata": {},
     "output_type": "execute_result"
    },
    {
     "data": {
      "image/png": "[encoded data removed]",
      "text/plain": [
       "<matplotlib.figure.Figure at 0x7fc696518e50>"
      ]
     },
     "metadata": {},
     "output_type": "display_data"
    }
   ],
   "source": [
    "names = [\"Game-Related\", \"Unfiltered\"]\n",
    "sns.heatmap(cm, square=True,annot=True,fmt='d',cbar=True,\n",
    "            xticklabels=names, yticklabels=names)"
   ]
  },
  {
   "cell_type": "code",
   "execution_count": null,
   "metadata": {
    "collapsed": true
   },
   "outputs": [],
   "source": []
  },
  {
   "cell_type": "code",
   "execution_count": null,
   "metadata": {
    "collapsed": true
   },
   "outputs": [],
   "source": []
  }
 ],
 "metadata": {
  "kernelspec": {
   "display_name": "Python 2",
   "language": "python",
   "name": "python2"
  },
  "language_info": {
   "codemirror_mode": {
    "name": "ipython",
    "version": 2
   },
   "file_extension": ".py",
   "mimetype": "text/x-python",
   "name": "python",
   "nbconvert_exporter": "python",
   "pygments_lexer": "ipython2",
   "version": "2.7.12"
  }
 },
 "nbformat": 4,
 "nbformat_minor": 2
}
